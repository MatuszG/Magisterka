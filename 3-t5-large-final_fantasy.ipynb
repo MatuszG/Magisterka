{
 "cells": [
  {
   "cell_type": "code",
   "execution_count": 1,
   "id": "49378c11-ef2a-4887-b1c2-83abd73ce5b8",
   "metadata": {
    "tags": []
   },
   "outputs": [
    {
     "name": "stdout",
     "output_type": "stream",
     "text": [
      "train_size 1425\n",
      "valid_dataset 1782\n",
      "max_length 1023\n"
     ]
    }
   ],
   "source": [
    "import gc\n",
    "import os\n",
    "import torch\n",
    "import pandas as pd\n",
    "from torch.utils.data import Dataset, random_split\n",
    "from transformers import TrainingArguments, Trainer, AutoModelForCausalLM, AutoTokenizer, Seq2SeqTrainingArguments, Seq2SeqTrainer\n",
    "output_path = 'Models/t5-base/final-fantasy'\n",
    "model_name = \"google-t5/t5-base\"\n",
    "\n",
    "torch.manual_seed(42)\n",
    "texts = pd.read_csv('final_fantasy.csv')\n",
    "tokenizer = AutoTokenizer.from_pretrained(model_name, bos_token='<|startoftext|>', eos_token='<|endoftext|>', pad_token='<|pad|>')\n",
    "valid_dataset = []\n",
    "for sentence in texts['sentence']:\n",
    "    if len(tokenizer.encode(sentence)) < 1024:\n",
    "        valid_dataset.append(sentence)\n",
    "        \n",
    "class TextDataset(Dataset):\n",
    "    def __init__(self, txt_list, tokenizer, max_length):\n",
    "        self.labels = []\n",
    "        self.input_ids = []\n",
    "        self.attn_masks = []        \n",
    "        for sentence in txt_list:\n",
    "            encodings_dict = tokenizer(sentence, truncation=True, max_length=max_length, padding=\"max_length\")\n",
    "            self.input_ids.append(torch.tensor(encodings_dict['input_ids']))\n",
    "            self.attn_masks.append(torch.tensor(encodings_dict['attention_mask']))\n",
    "    def __len__(self): return len(self.input_ids)\n",
    "    def __getitem__(self, idx): return self.input_ids[idx], self.attn_masks[idx]\n",
    "\n",
    "max_length = max([len(tokenizer.encode(sentence)) for sentence in valid_dataset])\n",
    "text_dataset = TextDataset(valid_dataset, tokenizer, max_length=max_length)\n",
    "train_size = int(0.8 * len(valid_dataset))\n",
    "train_dataset, val_dataset = random_split(text_dataset, [train_size, len(text_dataset) - train_size])\n",
    "# print(texts)\n",
    "print('train_size', train_size)\n",
    "print('valid_dataset', len(valid_dataset))\n",
    "print('max_length', max_length)\n",
    "os.environ[\"WANDB_PROJECT\"]='t5-base-final-fantasy'\n",
    "os.environ[\"WANDB_LOG_MODEL\"]=\"true\"\n",
    "os.environ[\"WANDB_WATCH\"]=\"false\"\n",
    "os.environ[\"WANDB_NAME\"]=\"t5-base-final-fantasy\"\n",
    "os.environ[\"WANDB_API_KEY\"] = \"b689f7c91f1ec7520fa8da927f175f1efd587181\""
   ]
  },
  {
   "cell_type": "code",
   "execution_count": 2,
   "id": "fbe14f7b-ff65-413a-bd83-51e9a9cfaa4a",
   "metadata": {
    "tags": []
   },
   "outputs": [
    {
     "name": "stderr",
     "output_type": "stream",
     "text": [
      "huggingface/tokenizers: The current process just got forked, after parallelism has already been used. Disabling parallelism to avoid deadlocks...\n",
      "To disable this warning, you can either:\n",
      "\t- Avoid using `tokenizers` before the fork if possible\n",
      "\t- Explicitly set the environment variable TOKENIZERS_PARALLELISM=(true | false)\n",
      "huggingface/tokenizers: The current process just got forked, after parallelism has already been used. Disabling parallelism to avoid deadlocks...\n",
      "To disable this warning, you can either:\n",
      "\t- Avoid using `tokenizers` before the fork if possible\n",
      "\t- Explicitly set the environment variable TOKENIZERS_PARALLELISM=(true | false)\n"
     ]
    },
    {
     "name": "stdout",
     "output_type": "stream",
     "text": [
      "saved\n"
     ]
    },
    {
     "data": {
      "text/plain": [
       "Embedding(32103, 768)"
      ]
     },
     "execution_count": 2,
     "metadata": {},
     "output_type": "execute_result"
    }
   ],
   "source": [
    "from transformers import AutoModelForSeq2SeqLM\n",
    "try:\n",
    "    model = AutoModelForSeq2SeqLM.from_pretrained(os.path.join(output_path, 'results', 'checkpoint-8900')).cuda()\n",
    "    print('saved')\n",
    "except:\n",
    "    model = AutoModelForSeq2SeqLM.from_pretrained(model_name).cuda()\n",
    "    print('downloaded')\n",
    "\n",
    "\n",
    "model.resize_token_embeddings(len(tokenizer))\n"
   ]
  },
  {
   "cell_type": "code",
   "execution_count": 4,
   "id": "11f23b30-ae77-4891-9ad7-a3bd1273f31d",
   "metadata": {
    "tags": []
   },
   "outputs": [
    {
     "name": "stdout",
     "output_type": "stream",
     "text": [
      "[2024-07-31 00:32:47,113] [INFO] [real_accelerator.py:203:get_accelerator] Setting ds_accelerator to cuda (auto detect)\n",
      "\u001b[93m [WARNING] \u001b[0m async_io requires the dev libaio .so object and headers but these were not found.\n",
      "\u001b[93m [WARNING] \u001b[0m async_io: please install the libaio-dev package with apt\n",
      "\u001b[93m [WARNING] \u001b[0m If libaio is already installed (perhaps from source), try setting the CFLAGS and LDFLAGS environment variables to where it can be found.\n",
      "\u001b[93m [WARNING] \u001b[0m Please specify the CUTLASS repo directory as environment variable $CUTLASS_PATH\n"
     ]
    },
    {
     "name": "stderr",
     "output_type": "stream",
     "text": [
      "/opt/conda/compiler_compat/ld: cannot find -laio: No such file or directory\n",
      "collect2: error: ld returned 1 exit status\n"
     ]
    },
    {
     "name": "stdout",
     "output_type": "stream",
     "text": [
      "\u001b[93m [WARNING] \u001b[0m sparse_attn requires a torch version >= 1.5 and < 2.0 but detected 2.3\n",
      "\u001b[93m [WARNING] \u001b[0m using untested triton version (2.3.1), only 1.0.0 is known to be compatible\n"
     ]
    },
    {
     "name": "stderr",
     "output_type": "stream",
     "text": [
      "\u001b[34m\u001b[1mwandb\u001b[0m: \u001b[33mWARNING\u001b[0m The `run_name` is currently set to the same value as `TrainingArguments.output_dir`. If this was not intended, please specify a different run name by setting the `TrainingArguments.run_name` parameter.\n",
      "\u001b[34m\u001b[1mwandb\u001b[0m: Currently logged in as: \u001b[33mgarbacik-mateusz\u001b[0m. Use \u001b[1m`wandb login --relogin`\u001b[0m to force relogin\n"
     ]
    },
    {
     "data": {
      "text/html": [
       "Tracking run with wandb version 0.17.5"
      ],
      "text/plain": [
       "<IPython.core.display.HTML object>"
      ]
     },
     "metadata": {},
     "output_type": "display_data"
    },
    {
     "data": {
      "text/html": [
       "Run data is saved locally in <code>/home/jupyter/wandb/run-20240731_003249-v1vpy8wp</code>"
      ],
      "text/plain": [
       "<IPython.core.display.HTML object>"
      ]
     },
     "metadata": {},
     "output_type": "display_data"
    },
    {
     "data": {
      "text/html": [
       "Syncing run <strong><a href='https://wandb.ai/garbacik-mateusz/t5-base-final-fantasy/runs/v1vpy8wp' target=\"_blank\">Models/t5-base/final-fantasy/results</a></strong> to <a href='https://wandb.ai/garbacik-mateusz/t5-base-final-fantasy' target=\"_blank\">Weights & Biases</a> (<a href='https://wandb.me/run' target=\"_blank\">docs</a>)<br/>"
      ],
      "text/plain": [
       "<IPython.core.display.HTML object>"
      ]
     },
     "metadata": {},
     "output_type": "display_data"
    },
    {
     "data": {
      "text/html": [
       " View project at <a href='https://wandb.ai/garbacik-mateusz/t5-base-final-fantasy' target=\"_blank\">https://wandb.ai/garbacik-mateusz/t5-base-final-fantasy</a>"
      ],
      "text/plain": [
       "<IPython.core.display.HTML object>"
      ]
     },
     "metadata": {},
     "output_type": "display_data"
    },
    {
     "data": {
      "text/html": [
       " View run at <a href='https://wandb.ai/garbacik-mateusz/t5-base-final-fantasy/runs/v1vpy8wp' target=\"_blank\">https://wandb.ai/garbacik-mateusz/t5-base-final-fantasy/runs/v1vpy8wp</a>"
      ],
      "text/plain": [
       "<IPython.core.display.HTML object>"
      ]
     },
     "metadata": {},
     "output_type": "display_data"
    },
    {
     "data": {
      "text/html": [
       "\n",
       "    <div>\n",
       "      \n",
       "      <progress value='8900' max='8900' style='width:300px; height:20px; vertical-align: middle;'></progress>\n",
       "      [8900/8900 4:33:56, Epoch 24/25]\n",
       "    </div>\n",
       "    <table border=\"1\" class=\"dataframe\">\n",
       "  <thead>\n",
       " <tr style=\"text-align: left;\">\n",
       "      <th>Epoch</th>\n",
       "      <th>Training Loss</th>\n",
       "      <th>Validation Loss</th>\n",
       "    </tr>\n",
       "  </thead>\n",
       "  <tbody>\n",
       "    <tr>\n",
       "      <td>0</td>\n",
       "      <td>No log</td>\n",
       "      <td>0.302526</td>\n",
       "    </tr>\n",
       "    <tr>\n",
       "      <td>2</td>\n",
       "      <td>0.238900</td>\n",
       "      <td>0.129908</td>\n",
       "    </tr>\n",
       "    <tr>\n",
       "      <td>4</td>\n",
       "      <td>0.143800</td>\n",
       "      <td>0.068767</td>\n",
       "    </tr>\n",
       "    <tr>\n",
       "      <td>6</td>\n",
       "      <td>0.092100</td>\n",
       "      <td>0.040901</td>\n",
       "    </tr>\n",
       "    <tr>\n",
       "      <td>8</td>\n",
       "      <td>0.046200</td>\n",
       "      <td>0.026761</td>\n",
       "    </tr>\n",
       "    <tr>\n",
       "      <td>10</td>\n",
       "      <td>0.035100</td>\n",
       "      <td>0.018687</td>\n",
       "    </tr>\n",
       "    <tr>\n",
       "      <td>12</td>\n",
       "      <td>0.021700</td>\n",
       "      <td>0.013623</td>\n",
       "    </tr>\n",
       "    <tr>\n",
       "      <td>14</td>\n",
       "      <td>0.017800</td>\n",
       "      <td>0.010458</td>\n",
       "    </tr>\n",
       "    <tr>\n",
       "      <td>16</td>\n",
       "      <td>0.012400</td>\n",
       "      <td>0.008290</td>\n",
       "    </tr>\n",
       "    <tr>\n",
       "      <td>18</td>\n",
       "      <td>0.010700</td>\n",
       "      <td>0.006787</td>\n",
       "    </tr>\n",
       "    <tr>\n",
       "      <td>20</td>\n",
       "      <td>0.009500</td>\n",
       "      <td>0.005882</td>\n",
       "    </tr>\n",
       "    <tr>\n",
       "      <td>22</td>\n",
       "      <td>0.007800</td>\n",
       "      <td>0.005307</td>\n",
       "    </tr>\n",
       "    <tr>\n",
       "      <td>24</td>\n",
       "      <td>0.007100</td>\n",
       "      <td>0.005110</td>\n",
       "    </tr>\n",
       "  </tbody>\n",
       "</table><p>"
      ],
      "text/plain": [
       "<IPython.core.display.HTML object>"
      ]
     },
     "metadata": {},
     "output_type": "display_data"
    },
    {
     "name": "stderr",
     "output_type": "stream",
     "text": [
      "There were missing keys in the checkpoint model loaded: ['encoder.embed_tokens.weight', 'decoder.embed_tokens.weight', 'lm_head.weight'].\n"
     ]
    },
    {
     "data": {
      "text/plain": [
       "TrainOutput(global_step=8900, training_loss=0.2422974059287082, metrics={'train_runtime': 16438.49, 'train_samples_per_second': 2.167, 'train_steps_per_second': 0.541, 'total_flos': 4.328625877069824e+16, 'train_loss': 0.2422974059287082, 'epoch': 24.964936886395513})"
      ]
     },
     "execution_count": 4,
     "metadata": {},
     "output_type": "execute_result"
    }
   ],
   "source": [
    "from transformers import EarlyStoppingCallback\n",
    "torch.cuda.empty_cache()\n",
    "\n",
    "training_args = Seq2SeqTrainingArguments(output_dir=os.path.join(output_path, 'results'),\n",
    "                                  num_train_epochs=25,\n",
    "                                  load_best_model_at_end=True,\n",
    "                                  overwrite_output_dir=True,\n",
    "                                  eval_strategy=\"epoch\",\n",
    "                                  save_strategy=\"epoch\",\n",
    "                                  per_device_train_batch_size=2,\n",
    "                                  per_device_eval_batch_size=2,\n",
    "                                  warmup_steps=100,\n",
    "                                  weight_decay=0.03,\n",
    "                                  gradient_accumulation_steps=2,\n",
    "                                  logging_dir=os.path.join(output_path, 'logs'),\n",
    "                                  report_to = 'wandb')\n",
    "\n",
    "trainer = Seq2SeqTrainer(model=model,\n",
    "        args=training_args,\n",
    "        train_dataset = train_dataset, \n",
    "        eval_dataset = val_dataset,\n",
    "        callbacks=[EarlyStoppingCallback(early_stopping_patience=3)],\n",
    "        data_collator = lambda data: {'input_ids': torch.stack([f[0] for f in data]),\n",
    "                                      'attention_mask': torch.stack([f[1] for f in data]),\n",
    "                                      'labels': torch.stack([f[0] for f in data])})\n",
    "\n",
    "trainer.train()\n",
    "# model.save_pretrained(os.path.join(output_path, 'results'))\n",
    "# tokenizer.save_pretrained(os.path.join(output_path, 'results'))\n",
    "\n",
    "# add t5 model to training\n",
    "# add gpt-2-large "
   ]
  },
  {
   "cell_type": "code",
   "execution_count": 3,
   "id": "a06573cf-2fd6-4057-8b36-107fad12b4f3",
   "metadata": {
    "tags": []
   },
   "outputs": [],
   "source": [
    "input_text = \"Title: A Bargain Struck Dialogue:\"\n",
    "input_ids = tokenizer(input_text, return_tensors=\"pt\").input_ids.cuda()\n",
    "\n",
    "model.eval()\n",
    "try:\n",
    "    sample_outputs = model.generate(\n",
    "        input_ids=input_ids,\n",
    "        pad_token_id=tokenizer.pad_token_id,\n",
    "        do_sample=True,\n",
    "        top_k=50,\n",
    "        max_length=300,\n",
    "        top_p=0.95,\n",
    "        temperature=0.7,\n",
    "        num_return_sequences=50\n",
    "    )\n",
    "    # Decode and print generated texts\n",
    "    generated_texts = [tokenizer.decode(output, skip_special_tokens=True) for output in sample_outputs]\n",
    "    with open(os.path.join(output_path, 'results','output.txt'), 'w') as file:\n",
    "        file.writelines([f\"Generated text {i+1}:\\n{text}\\n\" for i, text in enumerate(generated_texts)])\n",
    "\n",
    "except RuntimeError as e:\n",
    "    print(\"RuntimeError during generation:\", e)\n",
    "\n",
    "    # Additional Debugging: Check logits\n",
    "    with torch.no_grad():\n",
    "        outputs = model(input_ids=input_ids)\n",
    "        logits = outputs.logits\n",
    "        assert not torch.isnan(logits).any(), \"logits contain NaNs\"\n",
    "        assert not torch.isinf(logits).any(), \"logits contain Infs\"\n",
    "        print(\"Logits sample:\", logits[0, -1, :10])\n"
   ]
  },
  {
   "cell_type": "code",
   "execution_count": null,
   "id": "ed9180eb-0029-44bf-9d89-17de8b9ec1f3",
   "metadata": {},
   "outputs": [],
   "source": []
  }
 ],
 "metadata": {
  "environment": {
   "kernel": "python3",
   "name": "common-cu121.m123",
   "type": "gcloud",
   "uri": "us-docker.pkg.dev/deeplearning-platform-release/gcr.io/base-cu121:m123"
  },
  "kernelspec": {
   "display_name": "Python 3",
   "language": "python",
   "name": "python3"
  },
  "language_info": {
   "codemirror_mode": {
    "name": "ipython",
    "version": 3
   },
   "file_extension": ".py",
   "mimetype": "text/x-python",
   "name": "python",
   "nbconvert_exporter": "python",
   "pygments_lexer": "ipython3",
   "version": "3.10.14"
  }
 },
 "nbformat": 4,
 "nbformat_minor": 5
}
