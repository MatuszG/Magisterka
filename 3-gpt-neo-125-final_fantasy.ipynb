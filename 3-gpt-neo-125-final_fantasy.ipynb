{
 "cells": [
  {
   "cell_type": "code",
   "execution_count": 1,
   "id": "49378c11-ef2a-4887-b1c2-83abd73ce5b8",
   "metadata": {
    "tags": []
   },
   "outputs": [
    {
     "name": "stderr",
     "output_type": "stream",
     "text": [
      "Token indices sequence length is longer than the specified maximum sequence length for this model (5773 > 2048). Running this sequence through the model will result in indexing errors\n"
     ]
    },
    {
     "name": "stdout",
     "output_type": "stream",
     "text": [
      "train_size 1597\n",
      "valid_dataset 1997\n",
      "max_length 1023\n"
     ]
    }
   ],
   "source": [
    "import gc\n",
    "import os\n",
    "import torch\n",
    "import pandas as pd\n",
    "from torch.utils.data import Dataset, random_split\n",
    "from transformers import TrainingArguments, Trainer, AutoModelForCausalLM, AutoTokenizer\n",
    "output_path = 'Models/gpt-neo/125M-final-fantasy'\n",
    "model_name = \"google-t5/t5-large\"\n",
    "\n",
    "torch.manual_seed(42)\n",
    "texts = pd.read_csv('final_fantasy.csv')\n",
    "tokenizer = AutoTokenizer.from_pretrained(model_name, bos_token='<|startoftext|>', eos_token='<|endoftext|>', pad_token='<|pad|>')\n",
    "valid_dataset = []\n",
    "for sentence in texts['sentence']:\n",
    "    if len(tokenizer.encode(sentence)) < 1024:\n",
    "        valid_dataset.append(sentence)\n",
    "        \n",
    "class TextDataset(Dataset):\n",
    "    def __init__(self, txt_list, tokenizer, max_length):\n",
    "        self.labels = []\n",
    "        self.input_ids = []\n",
    "        self.attn_masks = []        \n",
    "        for sentence in txt_list:\n",
    "            encodings_dict = tokenizer(sentence, truncation=True, max_length=max_length, padding=\"max_length\")\n",
    "            self.input_ids.append(torch.tensor(encodings_dict['input_ids']))\n",
    "            self.attn_masks.append(torch.tensor(encodings_dict['attention_mask']))\n",
    "    def __len__(self): return len(self.input_ids)\n",
    "    def __getitem__(self, idx): return self.input_ids[idx], self.attn_masks[idx]\n",
    "\n",
    "max_length = max([len(tokenizer.encode(sentence)) for sentence in valid_dataset])\n",
    "text_dataset = TextDataset(valid_dataset, tokenizer, max_length=max_length)\n",
    "train_size = int(0.8 * len(valid_dataset))\n",
    "train_dataset, val_dataset = random_split(text_dataset, [train_size, len(text_dataset) - train_size])\n",
    "# print(texts)\n",
    "print('train_size', train_size)\n",
    "print('valid_dataset', len(valid_dataset))\n",
    "print('max_length', max_length)\n",
    "# os.environ[\"WANDB_PROJECT\"]='gpt-neo-125M-fantasy'\n",
    "# os.environ[\"WANDB_LOG_MODEL\"]=\"true\"\n",
    "# os.environ[\"WANDB_WATCH\"]=\"false\"\n",
    "# os.environ[\"WANDB_NAME\"]=\"gpt-neo-fantasy\"\n",
    "# os.environ[\"WANDB_API_KEY\"] = \"b689f7c91f1ec7520fa8da927f175f1efd587181\""
   ]
  },
  {
   "cell_type": "code",
   "execution_count": 3,
   "id": "fbe14f7b-ff65-413a-bd83-51e9a9cfaa4a",
   "metadata": {
    "tags": []
   },
   "outputs": [
    {
     "name": "stdout",
     "output_type": "stream",
     "text": [
      "downloaded\n"
     ]
    },
    {
     "data": {
      "text/plain": [
       "Embedding(50259, 768)"
      ]
     },
     "execution_count": 3,
     "metadata": {},
     "output_type": "execute_result"
    }
   ],
   "source": [
    "# try:\n",
    "#     model = AutoModelForCausalLM.from_pretrained(os.path.join(output_path, 'results', 'checkpoint-3184')).cuda()\n",
    "#     print('saved')\n",
    "# except:\n",
    "model = AutoModelForCausalLM.from_pretrained(model_name).cuda()\n",
    "print('downloaded')\n",
    "\n",
    "\n",
    "model.resize_token_embeddings(len(tokenizer))\n"
   ]
  },
  {
   "cell_type": "code",
   "execution_count": 6,
   "id": "11f23b30-ae77-4891-9ad7-a3bd1273f31d",
   "metadata": {
    "tags": []
   },
   "outputs": [
    {
     "data": {
      "text/html": [
       "\n",
       "    <div>\n",
       "      \n",
       "      <progress value='4264' max='4264' style='width:300px; height:20px; vertical-align: middle;'></progress>\n",
       "      [4264/4264 43:22, Epoch 8/8]\n",
       "    </div>\n",
       "    <table border=\"1\" class=\"dataframe\">\n",
       "  <thead>\n",
       " <tr style=\"text-align: left;\">\n",
       "      <th>Epoch</th>\n",
       "      <th>Training Loss</th>\n",
       "      <th>Validation Loss</th>\n",
       "    </tr>\n",
       "  </thead>\n",
       "  <tbody>\n",
       "    <tr>\n",
       "      <td>1</td>\n",
       "      <td>6.487500</td>\n",
       "      <td>6.829645</td>\n",
       "    </tr>\n",
       "    <tr>\n",
       "      <td>2</td>\n",
       "      <td>10.843400</td>\n",
       "      <td>12.372838</td>\n",
       "    </tr>\n",
       "    <tr>\n",
       "      <td>3</td>\n",
       "      <td>8.713400</td>\n",
       "      <td>4.951364</td>\n",
       "    </tr>\n",
       "    <tr>\n",
       "      <td>4</td>\n",
       "      <td>8.083800</td>\n",
       "      <td>8.312641</td>\n",
       "    </tr>\n",
       "    <tr>\n",
       "      <td>5</td>\n",
       "      <td>8.021300</td>\n",
       "      <td>9.681642</td>\n",
       "    </tr>\n",
       "    <tr>\n",
       "      <td>6</td>\n",
       "      <td>7.197600</td>\n",
       "      <td>4.267560</td>\n",
       "    </tr>\n",
       "    <tr>\n",
       "      <td>7</td>\n",
       "      <td>5.026300</td>\n",
       "      <td>4.432347</td>\n",
       "    </tr>\n",
       "    <tr>\n",
       "      <td>8</td>\n",
       "      <td>4.530300</td>\n",
       "      <td>4.288860</td>\n",
       "    </tr>\n",
       "  </tbody>\n",
       "</table><p>"
      ],
      "text/plain": [
       "<IPython.core.display.HTML object>"
      ]
     },
     "metadata": {},
     "output_type": "display_data"
    },
    {
     "name": "stderr",
     "output_type": "stream",
     "text": [
      "There were missing keys in the checkpoint model loaded: ['lm_head.weight'].\n"
     ]
    },
    {
     "data": {
      "text/plain": [
       "TrainOutput(global_step=4264, training_loss=7.179816326549308, metrics={'train_runtime': 2603.1589, 'train_samples_per_second': 4.908, 'train_steps_per_second': 1.638, 'total_flos': 6667845817982976.0, 'train_loss': 7.179816326549308, 'epoch': 8.0})"
      ]
     },
     "execution_count": 6,
     "metadata": {},
     "output_type": "execute_result"
    }
   ],
   "source": [
    "from transformers import EarlyStoppingCallback\n",
    "torch.cuda.empty_cache()\n",
    "\n",
    "training_args = TrainingArguments(output_dir=os.path.join(output_path, 'results'),\n",
    "                                  num_train_epochs=8,\n",
    "                                  load_best_model_at_end=True,\n",
    "                                  overwrite_output_dir=True,\n",
    "                                  eval_strategy=\"epoch\",\n",
    "                                  save_strategy=\"epoch\",\n",
    "                                  per_device_train_batch_size=3,\n",
    "                                  per_device_eval_batch_size=3,\n",
    "                                  warmup_steps=100,\n",
    "                                  weight_decay=0.03,\n",
    "                                  logging_dir=os.path.join(output_path, 'logs'),\n",
    "                                  report_to = 'wandb')\n",
    "\n",
    "trainer = Trainer(model=model,\n",
    "        args=training_args,\n",
    "        train_dataset = train_dataset, \n",
    "        eval_dataset = val_dataset,\n",
    "        callbacks=[EarlyStoppingCallback(early_stopping_patience=3)],\n",
    "        data_collator = lambda data: {'input_ids': torch.stack([f[0] for f in data]),\n",
    "                                      'attention_mask': torch.stack([f[1] for f in data]),\n",
    "                                      'labels': torch.stack([f[0] for f in data])})\n",
    "\n",
    "trainer.train()\n",
    "# model.save_pretrained(os.path.join(output_path, 'results'))\n",
    "# tokenizer.save_pretrained(os.path.join(output_path, 'results'))\n",
    "\n",
    "# add t5 model to training\n",
    "# add gpt-2-large "
   ]
  },
  {
   "cell_type": "code",
   "execution_count": 7,
   "id": "a06573cf-2fd6-4057-8b36-107fad12b4f3",
   "metadata": {
    "tags": []
   },
   "outputs": [],
   "source": [
    "input_text = \"Title: A Bargain Struck Dialogue:\"\n",
    "input_ids = tokenizer(input_text, return_tensors=\"pt\").input_ids.cuda()\n",
    "\n",
    "model.eval()\n",
    "try:\n",
    "    sample_outputs = model.generate(\n",
    "        input_ids=input_ids,\n",
    "        pad_token_id=tokenizer.pad_token_id,\n",
    "        do_sample=True,\n",
    "        top_k=50,\n",
    "        max_length=300,\n",
    "        top_p=0.95,\n",
    "        temperature=0.7,\n",
    "        num_return_sequences=100\n",
    "    )\n",
    "    # Decode and print generated texts\n",
    "    generated_texts = [tokenizer.decode(output, skip_special_tokens=True) for output in sample_outputs]\n",
    "    with open(os.path.join(output_path, 'results','output.txt'), 'w') as file:\n",
    "        file.writelines([f\"Generated text {i+1}:\\n{text}\\n\" for i, text in enumerate(generated_texts)])\n",
    "\n",
    "except RuntimeError as e:\n",
    "    print(\"RuntimeError during generation:\", e)\n",
    "\n",
    "    # Additional Debugging: Check logits\n",
    "    with torch.no_grad():\n",
    "        outputs = model(input_ids=input_ids)\n",
    "        logits = outputs.logits\n",
    "        assert not torch.isnan(logits).any(), \"logits contain NaNs\"\n",
    "        assert not torch.isinf(logits).any(), \"logits contain Infs\"\n",
    "        print(\"Logits sample:\", logits[0, -1, :10])\n"
   ]
  },
  {
   "cell_type": "code",
   "execution_count": null,
   "id": "ed9180eb-0029-44bf-9d89-17de8b9ec1f3",
   "metadata": {},
   "outputs": [],
   "source": []
  }
 ],
 "metadata": {
  "environment": {
   "kernel": "python3",
   "name": "common-cu121.m123",
   "type": "gcloud",
   "uri": "us-docker.pkg.dev/deeplearning-platform-release/gcr.io/base-cu121:m123"
  },
  "kernelspec": {
   "display_name": "Python 3",
   "language": "python",
   "name": "python3"
  },
  "language_info": {
   "codemirror_mode": {
    "name": "ipython",
    "version": 3
   },
   "file_extension": ".py",
   "mimetype": "text/x-python",
   "name": "python",
   "nbconvert_exporter": "python",
   "pygments_lexer": "ipython3",
   "version": "3.10.14"
  }
 },
 "nbformat": 4,
 "nbformat_minor": 5
}
