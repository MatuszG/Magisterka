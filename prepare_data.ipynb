{
 "cells": [
  {
   "cell_type": "code",
   "execution_count": 1,
   "id": "8248f835-a453-4713-8bdb-fa341526ce82",
   "metadata": {
    "tags": []
   },
   "outputs": [
    {
     "name": "stdout",
     "output_type": "stream",
     "text": [
      "25541\n",
      "23481\n"
     ]
    }
   ],
   "source": [
    "import pandas as pd\n",
    "\n",
    "# https://www.kaggle.com/datasets/kacperrawicki1/world-of-warcraft-quests\n",
    "def prepareWowData(txt_list):\n",
    "    data = []\n",
    "    for title, descrp in zip(txt_list['Quest Title'], txt_list['Quest Description']):\n",
    "        data.append('<|startoftext|>' + 'Title: ' + title + ' Description: ' + descrp + '<|endoftext|>')\n",
    "    df = pd.DataFrame(data, columns=['sentence'])\n",
    "    df.to_csv('data_wow.csv', index=False)\n",
    "\n",
    "def prepareWowExtendedData(txt_list):\n",
    "    data = []\n",
    "    for title, descrp, hand_in in zip(txt_list['Quest Title'], txt_list['Quest Description'], txt_list['Quest Hand-in']):\n",
    "        data.append('<|startoftext|>' + 'Title: ' + title + ' Description: ' + descrp + 'Hand-in: ' + hand_in + '<|endoftext|>')\n",
    "    df = pd.DataFrame(data, columns=['sentence'])\n",
    "    df.to_csv('data_wow_extended.csv', index=False)\n",
    "\n",
    "texts = pd.read_csv('data.csv')\n",
    "texts = texts.dropna(subset=['Quest Description'])\n",
    "print(len(texts))\n",
    "prepareWowData(texts)\n",
    "texts = texts.dropna(subset=['Quest Hand-in'])\n",
    "prepareWowExtendedData(texts)\n",
    "print(len(texts))"
   ]
  },
  {
   "cell_type": "code",
   "execution_count": 2,
   "id": "c7c5a95e-a4ff-483e-92d2-d3867a2876ab",
   "metadata": {
    "tags": []
   },
   "outputs": [],
   "source": [
    "# https://www.kaggle.com/datasets/rafaelmoraes004/final-fantasy-xiv-dialogue?select=dialogue.csv\n",
    "\n",
    "def prepareFinalFantasyData(txt_list):\n",
    "    data = []\n",
    "    for title, dialogue in zip(txt_list['title'], txt_list['dialogue']):\n",
    "        data.append('<|startoftext|>' + 'Title: ' + title + ' Dialogue: ' + dialogue + '<|endoftext|>')\n",
    "    df = pd.DataFrame(data, columns=['sentence'])\n",
    "    df['link'] = txt_list['link']\n",
    "    df.to_csv('final_fantasy.csv', index=False)\n",
    "\n",
    "datas = pd.read_csv('data2.csv')\n",
    "prepareFinalFantasyData(datas)"
   ]
  }
 ],
 "metadata": {
  "environment": {
   "kernel": "python3",
   "name": "common-cu121.m123",
   "type": "gcloud",
   "uri": "us-docker.pkg.dev/deeplearning-platform-release/gcr.io/base-cu121:m123"
  },
  "kernelspec": {
   "display_name": "Python 3",
   "language": "python",
   "name": "python3"
  },
  "language_info": {
   "codemirror_mode": {
    "name": "ipython",
    "version": 3
   },
   "file_extension": ".py",
   "mimetype": "text/x-python",
   "name": "python",
   "nbconvert_exporter": "python",
   "pygments_lexer": "ipython3",
   "version": "3.10.14"
  }
 },
 "nbformat": 4,
 "nbformat_minor": 5
}
