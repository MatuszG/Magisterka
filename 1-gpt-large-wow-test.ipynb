{
 "cells": [
  {
   "cell_type": "code",
   "execution_count": 1,
   "id": "49378c11-ef2a-4887-b1c2-83abd73ce5b8",
   "metadata": {
    "tags": []
   },
   "outputs": [
    {
     "name": "stdout",
     "output_type": "stream",
     "text": [
      "                                               sentence\n",
      "0     <|startoftext|>Title: Sharptalon's Claw Descri...\n",
      "1     <|startoftext|>Title: Riverpaw Gnoll Bounty De...\n",
      "2     <|startoftext|>Title: Give Gerard a Drink Desc...\n",
      "3     <|startoftext|>Title: Ursangous' Paw Descripti...\n",
      "4     <|startoftext|>Title: Shadumbra's Head Descrip...\n",
      "...                                                 ...\n",
      "1995  <|startoftext|>Title: Invasion Point: Cataclys...\n",
      "1996  <|startoftext|>Title: Invasion Point: Cataclys...\n",
      "1997  <|startoftext|>Title: Tabards of the Illidari ...\n",
      "1998  <|startoftext|>Title: Dissension Amongst the R...\n",
      "1999  <|startoftext|>Title: Little Embers Descriptio...\n",
      "\n",
      "[2000 rows x 1 columns]\n",
      "1800\n",
      "200\n"
     ]
    }
   ],
   "source": [
    "import gc\n",
    "import os\n",
    "import torch\n",
    "import pandas as pd\n",
    "from torch.utils.data import Dataset, random_split\n",
    "from transformers import TrainingArguments, Trainer, AutoModelForCausalLM, AutoTokenizer\n",
    "output_path = 'Models/gpt2-large/wow-test'\n",
    "texts = pd.read_csv('data_wow.csv', nrows=2000)\n",
    "# texts = pd.read_csv('data_wow.csv')\n",
    "\n",
    "torch.manual_seed(42)\n",
    "model_name = \"gpt2-large\"\n",
    "tokenizer = AutoTokenizer.from_pretrained(model_name, bos_token='<|startoftext|>', eos_token='<|endoftext|>', pad_token='<|pad|>')\n",
    "\n",
    "class TextDataset(Dataset):\n",
    "    def __init__(self, txt_list, tokenizer, max_length):\n",
    "        self.labels = []\n",
    "        self.input_ids = []\n",
    "        self.attn_masks = []        \n",
    "        for sentence in txt_list['sentence']:\n",
    "            encodings_dict = tokenizer(sentence, truncation=True, max_length=max_length, padding=\"max_length\")\n",
    "            self.input_ids.append(torch.tensor(encodings_dict['input_ids']))\n",
    "            self.attn_masks.append(torch.tensor(encodings_dict['attention_mask']))\n",
    "    def __len__(self): return len(self.input_ids)\n",
    "    def __getitem__(self, idx): return self.input_ids[idx], self.attn_masks[idx]\n",
    "\n",
    "max_length = max([len(tokenizer.encode(sentence)) for sentence in texts['sentence']])\n",
    "dataset = TextDataset(texts, tokenizer, max_length=max_length)\n",
    "train_size = int(0.9 * len(dataset))\n",
    "train_dataset, val_dataset = random_split(dataset, [train_size, len(dataset) - train_size])\n",
    "print(texts)\n",
    "print(train_size)\n",
    "print(len(dataset) - train_size)\n",
    "\n",
    "# os.environ[\"WANDB_PROJECT\"]='gpt-neo-125M'\n",
    "# os.environ[\"WANDB_LOG_MODEL\"]=\"true\"\n",
    "# os.environ[\"WANDB_WATCH\"]=\"false\"\n",
    "# os.environ[\"WANDB_NAME\"]=\"gpt-neo-wow\"\n",
    "# os.environ[\"WANDB_API_KEY\"] = \"b689f7c91f1ec7520fa8da927f175f1efd587181\""
   ]
  },
  {
   "cell_type": "code",
   "execution_count": 2,
   "id": "fbe14f7b-ff65-413a-bd83-51e9a9cfaa4a",
   "metadata": {
    "tags": []
   },
   "outputs": [
    {
     "name": "stderr",
     "output_type": "stream",
     "text": [
      "huggingface/tokenizers: The current process just got forked, after parallelism has already been used. Disabling parallelism to avoid deadlocks...\n",
      "To disable this warning, you can either:\n",
      "\t- Avoid using `tokenizers` before the fork if possible\n",
      "\t- Explicitly set the environment variable TOKENIZERS_PARALLELISM=(true | false)\n",
      "huggingface/tokenizers: The current process just got forked, after parallelism has already been used. Disabling parallelism to avoid deadlocks...\n",
      "To disable this warning, you can either:\n",
      "\t- Avoid using `tokenizers` before the fork if possible\n",
      "\t- Explicitly set the environment variable TOKENIZERS_PARALLELISM=(true | false)\n"
     ]
    },
    {
     "name": "stdout",
     "output_type": "stream",
     "text": [
      "172\n"
     ]
    }
   ],
   "source": [
    "# try:\n",
    "#     # model = AutoModelForCausalLM.from_pretrained(os.path.join(output_path, 'results')).cuda()\n",
    "#     model = AutoModelForCausalLM.from_pretrained(os.path.join(output_path, 'results', 'checkpoint-1825')).cuda()\n",
    "#     print('saved')\n",
    "# except:\n",
    "#     model = AutoModelForCausalLM.from_pretrained(model_name).cuda()\n",
    "#     print('downloaded')\n",
    "\n",
    "model = AutoModelForCausalLM.from_pretrained(model_name).cuda()\n",
    "model.resize_token_embeddings(len(tokenizer))\n",
    "print(max_length)"
   ]
  },
  {
   "cell_type": "code",
   "execution_count": 3,
   "id": "08e299bf-2275-41ac-bdb0-725dacbf6a6e",
   "metadata": {
    "tags": []
   },
   "outputs": [],
   "source": [
    "import nltk\n",
    "from nltk.translate.bleu_score import sentence_bleu\n",
    "\n",
    "def decode(input_ids_tensor):\n",
    "    token_ids_list = input_ids_tensor.tolist()\n",
    "    # Decode the token IDs into text\n",
    "    return tokenizer.decode(token_ids_list, skip_special_tokens=True)\n",
    "\n",
    "import torch.nn.functional as F\n",
    "def decodeLogits(logits):\n",
    "\n",
    "    # Apply softmax to get probabilities\n",
    "    logits_tensor = torch.tensor(logits, dtype=torch.float)\n",
    "    probabilities = F.softmax(logits_tensor, dim=-1)\n",
    "\n",
    "    # Get the token IDs (the indices of the highest probabilities)\n",
    "    token_ids = torch.argmax(probabilities, dim=-1)\n",
    "    return tokenizer.decode(token_ids, skip_special_tokens=True)\n",
    "\n",
    "# !pip install bert-score\n",
    "import bert_score\n",
    "\n",
    "def calculate_bertscore(predictions, references, lang='en'):\n",
    "    # Calculate BERTScore\n",
    "    # P, R, F1 = bert_score.score(predictions, references, lang=lang)\n",
    "    P, R, F1 = bert_score.score(predictions, references, lang=lang, model_type='distilbert-base-uncased', verbose=True)\n",
    "    \n",
    "    # Compute average scores\n",
    "    avg_precision = P.mean().item()\n",
    "    avg_recall = R.mean().item()\n",
    "    avg_f1 = F1.mean().item()\n",
    "    \n",
    "    return {\n",
    "        'precision': avg_precision,\n",
    "        'recall': avg_recall,\n",
    "        'f1': avg_f1\n",
    "    }\n",
    "\n",
    "from rouge_score import rouge_scorer\n",
    "\n",
    "def compute_rouge_in_chunks(candidates, references, chunk_size=100):\n",
    "    scorer = rouge_scorer.RougeScorer(['rouge1', 'rouge2', 'rougeL'], use_stemmer=True)\n",
    "    \n",
    "    results = {'rouge1': [], 'rouge2': [], 'rougeL': []}\n",
    "    \n",
    "    for i in range(0, len(candidates), chunk_size):\n",
    "        chunk_candidates = candidates[i:i + chunk_size]\n",
    "        chunk_references = references[i:i + chunk_size]\n",
    "        \n",
    "        for c, r in zip(chunk_candidates, chunk_references):\n",
    "            decoded_r = decode(r)\n",
    "            decoded_c = decodeLogits(c)\n",
    "            scores = scorer.score(decoded_r, decoded_c)\n",
    "            print(scores)\n",
    "            for key in results.keys():\n",
    "                results[key].append(scores[key].fmeasure)\n",
    "\n",
    "    average_scores = {key: sum(scores) / len(scores) for key, scores in results.items()}\n",
    "    return average_scores\n",
    "\n",
    "from nltk.translate.bleu_score import sentence_bleu\n",
    "\n",
    "def compute_metrics(pred):\n",
    "    references = pred.label_ids\n",
    "    generated_texts = pred.predictions\n",
    "    \n",
    "    bleu_scores = []\n",
    "    bert_scores = []\n",
    "    for reference, generated_text in zip(references, generated_texts):\n",
    "        reference_text = decode(reference)\n",
    "        predicted_text = decodeLogits(generated_text)\n",
    "        bert_score = calculate_bertscore([predicted_text], [reference_text])\n",
    "        bert_scores.append(bert_score)\n",
    "        bleu_score = sentence_bleu([reference_text], predicted_text)\n",
    "        bleu_scores.append(bleu_score)\n",
    "        \n",
    "    avg_precision = sum(score['precision'] for score in bert_scores) / len(bert_scores)\n",
    "    avg_recall = sum(score['recall'] for score in bert_scores) / len(bert_scores)\n",
    "    avg_f1 = sum(score['f1'] for score in bert_scores) / len(bert_scores)\n",
    "    rouge = compute_rouge_in_chunks(generated_texts, references)\n",
    "\n",
    "    metric = {\n",
    "        'bleu': sum(bleu_scores) / len(bleu_scores),\n",
    "        'rouge1': rouge['rouge1'],\n",
    "        'rouge2': rouge['rouge2'],\n",
    "        'rougeL': rouge['rougeL'],\n",
    "        'precision': avg_precision,\n",
    "        'recall': avg_recall,\n",
    "        'f1': avg_f1,\n",
    "    }\n",
    "    wandb.log(metric)\n",
    "    return metric"
   ]
  },
  {
   "cell_type": "code",
   "execution_count": null,
   "id": "11f23b30-ae77-4891-9ad7-a3bd1273f31d",
   "metadata": {
    "tags": []
   },
   "outputs": [
    {
     "name": "stdout",
     "output_type": "stream",
     "text": [
      "[2024-09-02 17:29:04,916] [INFO] [real_accelerator.py:203:get_accelerator] Setting ds_accelerator to cuda (auto detect)\n",
      "\u001b[93m [WARNING] \u001b[0m async_io requires the dev libaio .so object and headers but these were not found.\n",
      "\u001b[93m [WARNING] \u001b[0m async_io: please install the libaio-dev package with apt\n",
      "\u001b[93m [WARNING] \u001b[0m If libaio is already installed (perhaps from source), try setting the CFLAGS and LDFLAGS environment variables to where it can be found.\n",
      "\u001b[93m [WARNING] \u001b[0m Please specify the CUTLASS repo directory as environment variable $CUTLASS_PATH\n"
     ]
    },
    {
     "name": "stderr",
     "output_type": "stream",
     "text": [
      "/opt/conda/compiler_compat/ld: cannot find -laio: No such file or directory\n",
      "collect2: error: ld returned 1 exit status\n"
     ]
    },
    {
     "name": "stdout",
     "output_type": "stream",
     "text": [
      "\u001b[93m [WARNING] \u001b[0m sparse_attn requires a torch version >= 1.5 and < 2.0 but detected 2.3\n",
      "\u001b[93m [WARNING] \u001b[0m using untested triton version (2.3.1), only 1.0.0 is known to be compatible\n"
     ]
    },
    {
     "name": "stderr",
     "output_type": "stream",
     "text": [
      "\u001b[34m\u001b[1mwandb\u001b[0m: \u001b[33mWARNING\u001b[0m The `run_name` is currently set to the same value as `TrainingArguments.output_dir`. If this was not intended, please specify a different run name by setting the `TrainingArguments.run_name` parameter.\n",
      "\u001b[34m\u001b[1mwandb\u001b[0m: Currently logged in as: \u001b[33mgarbacik-mateusz\u001b[0m. Use \u001b[1m`wandb login --relogin`\u001b[0m to force relogin\n"
     ]
    },
    {
     "data": {
      "text/html": [
       "wandb version 0.17.8 is available!  To upgrade, please run:\n",
       " $ pip install wandb --upgrade"
      ],
      "text/plain": [
       "<IPython.core.display.HTML object>"
      ]
     },
     "metadata": {},
     "output_type": "display_data"
    },
    {
     "data": {
      "text/html": [
       "Tracking run with wandb version 0.17.5"
      ],
      "text/plain": [
       "<IPython.core.display.HTML object>"
      ]
     },
     "metadata": {},
     "output_type": "display_data"
    },
    {
     "data": {
      "text/html": [
       "Run data is saved locally in <code>/home/jupyter/wandb/run-20240902_172906-jq4usdsh</code>"
      ],
      "text/plain": [
       "<IPython.core.display.HTML object>"
      ]
     },
     "metadata": {},
     "output_type": "display_data"
    },
    {
     "data": {
      "text/html": [
       "Syncing run <strong><a href='https://wandb.ai/garbacik-mateusz/huggingface/runs/jq4usdsh' target=\"_blank\">Models/gpt2-large/wow-test/results</a></strong> to <a href='https://wandb.ai/garbacik-mateusz/huggingface' target=\"_blank\">Weights & Biases</a> (<a href='https://wandb.me/run' target=\"_blank\">docs</a>)<br/>"
      ],
      "text/plain": [
       "<IPython.core.display.HTML object>"
      ]
     },
     "metadata": {},
     "output_type": "display_data"
    },
    {
     "data": {
      "text/html": [
       " View project at <a href='https://wandb.ai/garbacik-mateusz/huggingface' target=\"_blank\">https://wandb.ai/garbacik-mateusz/huggingface</a>"
      ],
      "text/plain": [
       "<IPython.core.display.HTML object>"
      ]
     },
     "metadata": {},
     "output_type": "display_data"
    },
    {
     "data": {
      "text/html": [
       " View run at <a href='https://wandb.ai/garbacik-mateusz/huggingface/runs/jq4usdsh' target=\"_blank\">https://wandb.ai/garbacik-mateusz/huggingface/runs/jq4usdsh</a>"
      ],
      "text/plain": [
       "<IPython.core.display.HTML object>"
      ]
     },
     "metadata": {},
     "output_type": "display_data"
    },
    {
     "data": {
      "text/html": [
       "\n",
       "    <div>\n",
       "      \n",
       "      <progress value='294' max='22500' style='width:300px; height:20px; vertical-align: middle;'></progress>\n",
       "      [  294/22500 02:48 < 3:33:24, 1.73 it/s, Epoch 0.33/25]\n",
       "    </div>\n",
       "    <table border=\"1\" class=\"dataframe\">\n",
       "  <thead>\n",
       " <tr style=\"text-align: left;\">\n",
       "      <th>Epoch</th>\n",
       "      <th>Training Loss</th>\n",
       "      <th>Validation Loss</th>\n",
       "    </tr>\n",
       "  </thead>\n",
       "  <tbody>\n",
       "  </tbody>\n",
       "</table><p>"
      ],
      "text/plain": [
       "<IPython.core.display.HTML object>"
      ]
     },
     "metadata": {},
     "output_type": "display_data"
    }
   ],
   "source": [
    "from transformers import EarlyStoppingCallback\n",
    "torch.cuda.empty_cache()\n",
    "\n",
    "from transformers import TrainerCallback\n",
    "\n",
    "class CustomCallback(TrainerCallback):\n",
    "    def on_log(self, args, state, control, logs=None, **kwargs):\n",
    "        print(logs)\n",
    "\n",
    "training_args = TrainingArguments(output_dir=os.path.join(output_path, 'results'),\n",
    "                                  num_train_epochs=25,\n",
    "                                  load_best_model_at_end=True,\n",
    "                                  overwrite_output_dir=True,\n",
    "                                  eval_strategy=\"epoch\",\n",
    "                                  save_strategy=\"epoch\",\n",
    "                                  per_device_train_batch_size=2, #56\n",
    "                                  per_device_eval_batch_size=2,\n",
    "                                  warmup_steps=10,\n",
    "                                  logging_steps=1,\n",
    "                                  weight_decay=0.05,\n",
    "                                  logging_dir=os.path.join(output_path, 'logs'),\n",
    "                                  report_to = 'wandb')\n",
    "\n",
    "trainer = Trainer(model=model,\n",
    "        args=training_args,\n",
    "        train_dataset = train_dataset, \n",
    "        eval_dataset = val_dataset,\n",
    "        compute_metrics=compute_metrics,\n",
    "        callbacks=[EarlyStoppingCallback(early_stopping_patience=3)],\n",
    "        data_collator = lambda data: {'input_ids': torch.stack([f[0] for f in data]),\n",
    "                                      'attention_mask': torch.stack([f[1] for f in data]),\n",
    "                                      'labels': torch.stack([f[0] for f in data])})\n",
    "# Fine-tune the model\n",
    "trainer.train()\n",
    "model.save_pretrained(os.path.join(output_path, 'results'))\n",
    "tokenizer.save_pretrained(os.path.join(output_path, 'results'))"
   ]
  },
  {
   "cell_type": "code",
   "execution_count": null,
   "id": "a3638fcf-78b1-4fda-a000-e1f88e7c1528",
   "metadata": {
    "tags": []
   },
   "outputs": [],
   "source": [
    "# Access a single example from the validation dataset\n",
    "# print(trainer.evaluate())\n",
    "# for i in val_dataset:\n",
    "#     evalInput(i)"
   ]
  },
  {
   "cell_type": "code",
   "execution_count": 38,
   "id": "606020b5-adfc-4623-aec0-92b37d814b0b",
   "metadata": {},
   "outputs": [],
   "source": [
    "import re\n",
    "# Define the regex pattern to match the sentence that starts with \"everything\" and ends with \"Description:\"\n",
    "def evalInput(example):\n",
    "    # Assuming 'example' is a tuple where the first element is the input tensor\n",
    "    input_ids_tensor = example[0]\n",
    "    # Convert the tensor to a list of token IDs\n",
    "    token_ids_list = input_ids_tensor.tolist()\n",
    "    # Decode the token IDs into text\n",
    "    decoded_text = tokenizer.decode(token_ids_list, skip_special_tokens=True)\n",
    "    # Regex to capture the title and content separately\n",
    "    match = re.match(r'^Title: (.*?) Description: (.*)', decoded_text, re.DOTALL)\n",
    "\n",
    "    if match:\n",
    "        title = match.group(1)\n",
    "        content = match.group(2)\n",
    "        input_text = f\"Title: {title} Description: \"\n",
    "        print(input_text)\n",
    "        predictions = generate_predictions(input_text)\n",
    "        print(predictions)\n",
    "        print(compute_rouge(predictions, decoded_text))\n",
    "        bleu_scores = []\n",
    "        bert_scores = []\n",
    "        for generated_text in predictions:\n",
    "            bleu_score = sentence_bleu([decoded_text], generated_text)\n",
    "            bert_score = calculate_bertscore([generated_text], [decoded_text])\n",
    "            bleu_scores.append(bleu_score)\n",
    "            bert_scores.append(bert_score)\n",
    "        precision = 0\n",
    "        recall = 0\n",
    "        f1 = 0\n",
    "        for score in bert_scores:\n",
    "            print(score)\n",
    "            precision = precision + score['precision']\n",
    "            recall = recall + score['recall']\n",
    "            f1 = f1 + score['f1']\n",
    "        print({\n",
    "            'bleu': sum(bleu_scores) / len(bleu_scores),\n",
    "            'precision': precision / len(bert_scores),\n",
    "            'recall': recall / len(bert_scores),\n",
    "            'f1': f1 / len(bert_scores),\n",
    "        })\n",
    "        # print(\"Title:\", title)\n",
    "        # print(\"Content:\", content)\n",
    "    else:\n",
    "        print(\"No match found.\")\n",
    "\n",
    "# !pip install bert-score\n",
    "import bert_score\n",
    "\n",
    "def calculate_bertscore(predictions, references, lang='en'):\n",
    "    # Calculate BERTScore\n",
    "    P, R, F1 = bert_score.score(predictions, references, lang=lang)\n",
    "    \n",
    "    # Compute average scores\n",
    "    avg_precision = P.mean().item()\n",
    "    avg_recall = R.mean().item()\n",
    "    avg_f1 = F1.mean().item()\n",
    "    \n",
    "    return {\n",
    "        'precision': avg_precision,\n",
    "        'recall': avg_recall,\n",
    "        'f1': avg_f1\n",
    "    }\n",
    "\n",
    "# Example usage\n",
    "# predictions = [\n",
    "#     \"The cat sat on the mat.\",\n",
    "#     \"The quick brown fox jumps over the lazy dog.\"\n",
    "# ]\n",
    "# references = [\n",
    "#     \"A cat was sitting on a rug.\",\n",
    "#     \"A speedy brown fox leaps over a lazy canine.\"\n",
    "# ]\n",
    "\n",
    "# scores = calculate_bertscore(predictions, references)\n",
    "# print(scores)\n",
    "\n",
    "from rouge_score import rouge_scorer\n",
    "from nltk.translate.bleu_score import sentence_bleu\n",
    "def compute_rouge(predictions, references):\n",
    "    scorer = rouge_scorer.RougeScorer(['rouge1', 'rougeL'], use_stemmer=True)\n",
    "    rouge1_scores = []\n",
    "    rougeL_scores = []\n",
    "    \n",
    "    for ref, pred in zip(references, predictions):\n",
    "        scores = scorer.score(ref, pred)\n",
    "        rouge1_scores.append(scores['rouge1'].fmeasure)\n",
    "        rougeL_scores.append(scores['rougeL'].fmeasure)\n",
    "        \n",
    "    rouge1_avg = sum(rouge1_scores) / len(rouge1_scores)\n",
    "    rougeL_avg = sum(rougeL_scores) / len(rougeL_scores)\n",
    "    \n",
    "    return {\n",
    "        \"rouge1\": rouge1_avg,\n",
    "        \"rougeL\": rougeL_avg\n",
    "    }\n",
    "\n",
    "# Epoch \tTraining Loss \tValidation Loss\n",
    "# 1 \tNo log \t1.520463\n",
    "# 2 \t1.652300 \t1.467383\n",
    "# 3 \t1.393100 \t1.441400\n",
    "# 4 \t1.393100 \t1.428227\n",
    "# 5 \t1.294700 \t1.422623\n",
    "# 6 \t1.205200 \t1.425824\n",
    "# 7 \t1.140800 \t1.428631\n",
    "# 8 \t1.140800 \t1.444082\n",
    "\n",
    "# There were missing keys in the checkpoint model loaded: ['lm_head.weight'].\n",
    "\n",
    "# TrainOutput(global_step=2920, training_loss=1.2997734801409995, metrics={'train_runtime': 4592.453, 'train_samples_per_second': 111.226, 'train_steps_per_second': 1.987, 'total_flos': 1.5760779141316608e+16, 'train_loss': 1.2997734801409995, 'epoch': 8.0})"
   ]
  },
  {
   "cell_type": "code",
   "execution_count": 3,
   "id": "dff87b09-7038-4780-a86b-f84891d14972",
   "metadata": {
    "tags": []
   },
   "outputs": [],
   "source": [
    "def generate_predictions(input_text):\n",
    "    input_ids = tokenizer(input_text, return_tensors=\"pt\").input_ids.cuda()\n",
    "    model.eval()\n",
    "    try:\n",
    "        sample_outputs = model.generate(\n",
    "            input_ids=input_ids,\n",
    "            pad_token_id=tokenizer.pad_token_id,\n",
    "            do_sample=True,\n",
    "            top_k=50,\n",
    "            max_length=300,\n",
    "            top_p=0.95,\n",
    "            temperature=0.7,\n",
    "            num_return_sequences=10\n",
    "        )\n",
    "        # Decode and print generated texts\n",
    "        generated_texts = [tokenizer.decode(output, skip_special_tokens=True) for output in sample_outputs]\n",
    "        return generated_texts\n",
    "\n",
    "    except RuntimeError as e:\n",
    "        print(\"RuntimeError during generation:\", e)\n",
    "\n",
    "        # Additional Debugging: Check logits\n",
    "        with torch.no_grad():\n",
    "            outputs = model(input_ids=input_ids)\n",
    "            logits = outputs.logits\n",
    "            assert not torch.isnan(logits).any(), \"logits contain NaNs\"\n",
    "            assert not torch.isinf(logits).any(), \"logits contain Infs\"\n",
    "            print(\"Logits sample:\", logits[0, -1, :10])\n"
   ]
  },
  {
   "cell_type": "code",
   "execution_count": 4,
   "id": "4655e419-5c6a-4899-8a10-6b1d18a091ec",
   "metadata": {
    "tags": []
   },
   "outputs": [],
   "source": [
    "input_text = \"Title: Sharptalon's Claw \\nDescription:\"\n",
    "input_ids = tokenizer(input_text, return_tensors=\"pt\").input_ids.cuda()\n",
    "\n",
    "model.eval()\n",
    "try:\n",
    "    sample_outputs = model.generate(\n",
    "        input_ids=input_ids,\n",
    "        pad_token_id=tokenizer.pad_token_id,\n",
    "        do_sample=True,\n",
    "        top_k=50,\n",
    "        max_length=300,\n",
    "        top_p=0.95,\n",
    "        temperature=0.7,\n",
    "        num_return_sequences=100\n",
    "    )\n",
    "    # Decode and print generated texts\n",
    "    generated_texts = [tokenizer.decode(output, skip_special_tokens=True) for output in sample_outputs]\n",
    "    with open(os.path.join(output_path, 'results','output2.txt'), 'w') as file:\n",
    "        file.writelines([f\"Generated text {i+1}:\\n{text}\\n\" for i, text in enumerate(generated_texts)])\n",
    "\n",
    "except RuntimeError as e:\n",
    "    print(\"RuntimeError during generation:\", e)\n",
    "\n",
    "    # Additional Debugging: Check logits\n",
    "    with torch.no_grad():\n",
    "        outputs = model(input_ids=input_ids)\n",
    "        logits = outputs.logits\n",
    "        assert not torch.isnan(logits).any(), \"logits contain NaNs\"\n",
    "        assert not torch.isinf(logits).any(), \"logits contain Infs\"\n",
    "        print(\"Logits sample:\", logits[0, -1, :10])\n"
   ]
  }
 ],
 "metadata": {
  "environment": {
   "kernel": "python3",
   "name": "common-cu121.m123",
   "type": "gcloud",
   "uri": "us-docker.pkg.dev/deeplearning-platform-release/gcr.io/base-cu121:m123"
  },
  "kernelspec": {
   "display_name": "Python 3",
   "language": "python",
   "name": "python3"
  },
  "language_info": {
   "codemirror_mode": {
    "name": "ipython",
    "version": 3
   },
   "file_extension": ".py",
   "mimetype": "text/x-python",
   "name": "python",
   "nbconvert_exporter": "python",
   "pygments_lexer": "ipython3",
   "version": "3.10.14"
  }
 },
 "nbformat": 4,
 "nbformat_minor": 5
}
