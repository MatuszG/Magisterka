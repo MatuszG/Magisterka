{
 "cells": [
  {
   "cell_type": "code",
   "execution_count": 3,
   "id": "49378c11-ef2a-4887-b1c2-83abd73ce5b8",
   "metadata": {
    "tags": []
   },
   "outputs": [
    {
     "name": "stdout",
     "output_type": "stream",
     "text": [
      "                                             sentence\n",
      "0   <|startoftext|>Title: Sharptalon's Claw Descri...\n",
      "1   <|startoftext|>Title: Riverpaw Gnoll Bounty De...\n",
      "2   <|startoftext|>Title: Give Gerard a Drink Desc...\n",
      "3   <|startoftext|>Title: Ursangous' Paw Descripti...\n",
      "4   <|startoftext|>Title: Shadumbra's Head Descrip...\n",
      "..                                                ...\n",
      "95  <|startoftext|>Title: Securing the Lines Descr...\n",
      "96  <|startoftext|>Title: Rescue OOX-09/HL! Descri...\n",
      "97  <|startoftext|>Title: Conscript of the Horde D...\n",
      "98  <|startoftext|>Title: Plainstrider Menace Desc...\n",
      "99  <|startoftext|>Title: The Zhevra Description: ...\n",
      "\n",
      "[100 rows x 1 columns]\n",
      "90\n",
      "10\n"
     ]
    }
   ],
   "source": [
    "import gc\n",
    "import os\n",
    "import torch\n",
    "import pandas as pd\n",
    "from torch.utils.data import Dataset, random_split\n",
    "from transformers import TrainingArguments, Trainer, AutoModelForCausalLM, AutoTokenizer\n",
    "output_path = 'Models/gpt-neo/125M-wow-test'\n",
    "texts = pd.read_csv('data_wow.csv', nrows=100)\n",
    "# texts = pd.read_csv('data_wow.csv')\n",
    "\n",
    "torch.manual_seed(42)\n",
    "model_name = \"EleutherAI/gpt-neo-125M\"\n",
    "tokenizer = AutoTokenizer.from_pretrained(model_name, bos_token='<|startoftext|>', eos_token='<|endoftext|>', pad_token='<|pad|>')\n",
    "\n",
    "class TextDataset(Dataset):\n",
    "    def __init__(self, txt_list, tokenizer, max_length):\n",
    "        self.labels = []\n",
    "        self.input_ids = []\n",
    "        self.attn_masks = []        \n",
    "        for sentence in txt_list['sentence']:\n",
    "            encodings_dict = tokenizer(sentence, truncation=True, max_length=max_length, padding=\"max_length\")\n",
    "            self.input_ids.append(torch.tensor(encodings_dict['input_ids']))\n",
    "            self.attn_masks.append(torch.tensor(encodings_dict['attention_mask']))\n",
    "    def __len__(self): return len(self.input_ids)\n",
    "    def __getitem__(self, idx): return self.input_ids[idx], self.attn_masks[idx]\n",
    "\n",
    "max_length = max([len(tokenizer.encode(sentence)) for sentence in texts['sentence']])\n",
    "dataset = TextDataset(texts, tokenizer, max_length=max_length)\n",
    "train_size = int(0.9 * len(dataset))\n",
    "train_dataset, val_dataset = random_split(dataset, [train_size, len(dataset) - train_size])\n",
    "print(texts)\n",
    "print(train_size)\n",
    "print(len(dataset) - train_size)\n",
    "\n",
    "# os.environ[\"WANDB_PROJECT\"]='gpt-neo-125M'\n",
    "# os.environ[\"WANDB_LOG_MODEL\"]=\"true\"\n",
    "# os.environ[\"WANDB_WATCH\"]=\"false\"\n",
    "# os.environ[\"WANDB_NAME\"]=\"gpt-neo-wow\"\n",
    "# os.environ[\"WANDB_API_KEY\"] = \"b689f7c91f1ec7520fa8da927f175f1efd587181\""
   ]
  },
  {
   "cell_type": "code",
   "execution_count": 4,
   "id": "fbe14f7b-ff65-413a-bd83-51e9a9cfaa4a",
   "metadata": {
    "tags": []
   },
   "outputs": [
    {
     "name": "stderr",
     "output_type": "stream",
     "text": [
      "huggingface/tokenizers: The current process just got forked, after parallelism has already been used. Disabling parallelism to avoid deadlocks...\n",
      "To disable this warning, you can either:\n",
      "\t- Avoid using `tokenizers` before the fork if possible\n",
      "\t- Explicitly set the environment variable TOKENIZERS_PARALLELISM=(true | false)\n",
      "huggingface/tokenizers: The current process just got forked, after parallelism has already been used. Disabling parallelism to avoid deadlocks...\n",
      "To disable this warning, you can either:\n",
      "\t- Avoid using `tokenizers` before the fork if possible\n",
      "\t- Explicitly set the environment variable TOKENIZERS_PARALLELISM=(true | false)\n"
     ]
    },
    {
     "name": "stdout",
     "output_type": "stream",
     "text": [
      "152\n"
     ]
    }
   ],
   "source": [
    "# try:\n",
    "#     # model = AutoModelForCausalLM.from_pretrained(os.path.join(output_path, 'results')).cuda()\n",
    "#     model = AutoModelForCausalLM.from_pretrained(os.path.join(output_path, 'results', 'checkpoint-1825')).cuda()\n",
    "#     print('saved')\n",
    "# except:\n",
    "#     model = AutoModelForCausalLM.from_pretrained(model_name).cuda()\n",
    "#     print('downloaded')\n",
    "\n",
    "model = AutoModelForCausalLM.from_pretrained(model_name).cuda()\n",
    "model.resize_token_embeddings(len(tokenizer))\n",
    "print(max_length)"
   ]
  },
  {
   "cell_type": "code",
   "execution_count": 5,
   "id": "08e299bf-2275-41ac-bdb0-725dacbf6a6e",
   "metadata": {
    "tags": []
   },
   "outputs": [],
   "source": [
    "import nltk\n",
    "from nltk.translate.bleu_score import sentence_bleu\n",
    "\n",
    "def decode(input_ids_tensor):\n",
    "    token_ids_list = input_ids_tensor.tolist()\n",
    "    # Decode the token IDs into text\n",
    "    return tokenizer.decode(token_ids_list, skip_special_tokens=True)\n",
    "\n",
    "import torch.nn.functional as F\n",
    "def decodeLogits(logits):\n",
    "\n",
    "    # Apply softmax to get probabilities\n",
    "    logits_tensor = torch.tensor(logits, dtype=torch.float)\n",
    "    probabilities = F.softmax(logits_tensor, dim=-1)\n",
    "\n",
    "    # Get the token IDs (the indices of the highest probabilities)\n",
    "    token_ids = torch.argmax(probabilities, dim=-1)\n",
    "    return tokenizer.decode(token_ids, skip_special_tokens=True)\n",
    "\n",
    "# !pip install bert-score\n",
    "import bert_score\n",
    "\n",
    "def calculate_bertscore(predictions, references, lang='en'):\n",
    "    # Calculate BERTScore\n",
    "    # P, R, F1 = bert_score.score(predictions, references, lang=lang)\n",
    "    P, R, F1 = bert_score.score(predictions, references, lang=lang, model_type='distilbert-base-uncased', verbose=True)\n",
    "    \n",
    "    # Compute average scores\n",
    "    avg_precision = P.mean().item()\n",
    "    avg_recall = R.mean().item()\n",
    "    avg_f1 = F1.mean().item()\n",
    "    \n",
    "    return {\n",
    "        'precision': avg_precision,\n",
    "        'recall': avg_recall,\n",
    "        'f1': avg_f1\n",
    "    }\n",
    "\n",
    "from rouge_score import rouge_scorer\n",
    "\n",
    "def compute_rouge_in_chunks(candidates, references, chunk_size=100):\n",
    "    scorer = rouge_scorer.RougeScorer(['rouge1', 'rouge2', 'rougeL'], use_stemmer=True)\n",
    "    \n",
    "    results = {'rouge1': [], 'rouge2': [], 'rougeL': []}\n",
    "    \n",
    "    for i in range(0, len(candidates), chunk_size):\n",
    "        chunk_candidates = candidates[i:i + chunk_size]\n",
    "        chunk_references = references[i:i + chunk_size]\n",
    "        \n",
    "        for c, r in zip(chunk_candidates, chunk_references):\n",
    "            decoded_r = decode(r)\n",
    "            decoded_c = decodeLogits(c)\n",
    "            scores = scorer.score(decoded_r, decoded_c)\n",
    "            print(scores)\n",
    "            for key in results.keys():\n",
    "                results[key].append(scores[key].fmeasure)\n",
    "\n",
    "    average_scores = {key: sum(scores) / len(scores) for key, scores in results.items()}\n",
    "    return average_scores\n",
    "\n",
    "from nltk.translate.bleu_score import sentence_bleu\n",
    "\n",
    "def compute_metrics(pred):\n",
    "    references = pred.label_ids\n",
    "    generated_texts = pred.predictions\n",
    "    \n",
    "    bleu_scores = []\n",
    "    bert_scores = []\n",
    "    for reference, generated_text in zip(references, generated_texts):\n",
    "        reference_text = decode(reference)\n",
    "        predicted_text = decodeLogits(generated_text)\n",
    "        bert_score = calculate_bertscore([predicted_text], [reference_text])\n",
    "        bert_scores.append(bert_score)\n",
    "        bleu_score = sentence_bleu([reference_text], predicted_text)\n",
    "        bleu_scores.append(bleu_score)\n",
    "        \n",
    "    avg_precision = sum(score['precision'] for score in bert_scores) / len(bert_scores)\n",
    "    avg_recall = sum(score['recall'] for score in bert_scores) / len(bert_scores)\n",
    "    avg_f1 = sum(score['f1'] for score in bert_scores) / len(bert_scores)\n",
    "    rouge = compute_rouge_in_chunks(generated_texts, references)\n",
    "\n",
    "    return {\n",
    "        'bleu': sum(bleu_scores) / len(bleu_scores),\n",
    "        'rouge1': rouge['rouge1'],\n",
    "        'rouge2': rouge['rouge2'],\n",
    "        'rougeL': rouge['rougeL'],\n",
    "        'precision': avg_precision,\n",
    "        'recall': avg_recall,\n",
    "        'f1': avg_f1,\n",
    "    }"
   ]
  },
  {
   "cell_type": "code",
   "execution_count": 6,
   "id": "11f23b30-ae77-4891-9ad7-a3bd1273f31d",
   "metadata": {
    "tags": []
   },
   "outputs": [
    {
     "name": "stdout",
     "output_type": "stream",
     "text": [
      "[2024-09-01 23:48:26,159] [INFO] [real_accelerator.py:203:get_accelerator] Setting ds_accelerator to cuda (auto detect)\n",
      "\u001b[93m [WARNING] \u001b[0m async_io requires the dev libaio .so object and headers but these were not found.\n",
      "\u001b[93m [WARNING] \u001b[0m async_io: please install the libaio-dev package with apt\n",
      "\u001b[93m [WARNING] \u001b[0m If libaio is already installed (perhaps from source), try setting the CFLAGS and LDFLAGS environment variables to where it can be found.\n",
      "\u001b[93m [WARNING] \u001b[0m Please specify the CUTLASS repo directory as environment variable $CUTLASS_PATH\n"
     ]
    },
    {
     "name": "stderr",
     "output_type": "stream",
     "text": [
      "/opt/conda/compiler_compat/ld: cannot find -laio: No such file or directory\n",
      "collect2: error: ld returned 1 exit status\n"
     ]
    },
    {
     "name": "stdout",
     "output_type": "stream",
     "text": [
      "\u001b[93m [WARNING] \u001b[0m sparse_attn requires a torch version >= 1.5 and < 2.0 but detected 2.3\n",
      "\u001b[93m [WARNING] \u001b[0m using untested triton version (2.3.1), only 1.0.0 is known to be compatible\n"
     ]
    },
    {
     "name": "stderr",
     "output_type": "stream",
     "text": [
      "\u001b[34m\u001b[1mwandb\u001b[0m: \u001b[33mWARNING\u001b[0m The `run_name` is currently set to the same value as `TrainingArguments.output_dir`. If this was not intended, please specify a different run name by setting the `TrainingArguments.run_name` parameter.\n",
      "\u001b[34m\u001b[1mwandb\u001b[0m: Currently logged in as: \u001b[33mgarbacik-mateusz\u001b[0m. Use \u001b[1m`wandb login --relogin`\u001b[0m to force relogin\n"
     ]
    },
    {
     "data": {
      "text/html": [
       "wandb version 0.17.8 is available!  To upgrade, please run:\n",
       " $ pip install wandb --upgrade"
      ],
      "text/plain": [
       "<IPython.core.display.HTML object>"
      ]
     },
     "metadata": {},
     "output_type": "display_data"
    },
    {
     "data": {
      "text/html": [
       "Tracking run with wandb version 0.17.5"
      ],
      "text/plain": [
       "<IPython.core.display.HTML object>"
      ]
     },
     "metadata": {},
     "output_type": "display_data"
    },
    {
     "data": {
      "text/html": [
       "Run data is saved locally in <code>/home/jupyter/wandb/run-20240901_234828-bi7gfdpv</code>"
      ],
      "text/plain": [
       "<IPython.core.display.HTML object>"
      ]
     },
     "metadata": {},
     "output_type": "display_data"
    },
    {
     "data": {
      "text/html": [
       "Syncing run <strong><a href='https://wandb.ai/garbacik-mateusz/huggingface/runs/bi7gfdpv' target=\"_blank\">Models/gpt-neo/125M-wow-test/results</a></strong> to <a href='https://wandb.ai/garbacik-mateusz/huggingface' target=\"_blank\">Weights & Biases</a> (<a href='https://wandb.me/run' target=\"_blank\">docs</a>)<br/>"
      ],
      "text/plain": [
       "<IPython.core.display.HTML object>"
      ]
     },
     "metadata": {},
     "output_type": "display_data"
    },
    {
     "data": {
      "text/html": [
       " View project at <a href='https://wandb.ai/garbacik-mateusz/huggingface' target=\"_blank\">https://wandb.ai/garbacik-mateusz/huggingface</a>"
      ],
      "text/plain": [
       "<IPython.core.display.HTML object>"
      ]
     },
     "metadata": {},
     "output_type": "display_data"
    },
    {
     "data": {
      "text/html": [
       " View run at <a href='https://wandb.ai/garbacik-mateusz/huggingface/runs/bi7gfdpv' target=\"_blank\">https://wandb.ai/garbacik-mateusz/huggingface/runs/bi7gfdpv</a>"
      ],
      "text/plain": [
       "<IPython.core.display.HTML object>"
      ]
     },
     "metadata": {},
     "output_type": "display_data"
    },
    {
     "data": {
      "text/html": [
       "\n",
       "    <div>\n",
       "      \n",
       "      <progress value='108' max='450' style='width:300px; height:20px; vertical-align: middle;'></progress>\n",
       "      [108/450 01:42 < 05:31, 1.03 it/s, Epoch 6/25]\n",
       "    </div>\n",
       "    <table border=\"1\" class=\"dataframe\">\n",
       "  <thead>\n",
       " <tr style=\"text-align: left;\">\n",
       "      <th>Epoch</th>\n",
       "      <th>Training Loss</th>\n",
       "      <th>Validation Loss</th>\n",
       "      <th>Bleu</th>\n",
       "      <th>Rouge1</th>\n",
       "      <th>Rouge2</th>\n",
       "      <th>Rougel</th>\n",
       "      <th>Precision</th>\n",
       "      <th>Recall</th>\n",
       "      <th>F1</th>\n",
       "    </tr>\n",
       "  </thead>\n",
       "  <tbody>\n",
       "    <tr>\n",
       "      <td>1</td>\n",
       "      <td>No log</td>\n",
       "      <td>2.646941</td>\n",
       "      <td>0.397010</td>\n",
       "      <td>0.396102</td>\n",
       "      <td>0.085475</td>\n",
       "      <td>0.318119</td>\n",
       "      <td>0.774586</td>\n",
       "      <td>0.783155</td>\n",
       "      <td>0.778838</td>\n",
       "    </tr>\n",
       "    <tr>\n",
       "      <td>2</td>\n",
       "      <td>No log</td>\n",
       "      <td>2.488605</td>\n",
       "      <td>0.477027</td>\n",
       "      <td>0.442892</td>\n",
       "      <td>0.090208</td>\n",
       "      <td>0.329715</td>\n",
       "      <td>0.794189</td>\n",
       "      <td>0.802882</td>\n",
       "      <td>0.798500</td>\n",
       "    </tr>\n",
       "    <tr>\n",
       "      <td>3</td>\n",
       "      <td>No log</td>\n",
       "      <td>2.480776</td>\n",
       "      <td>0.484279</td>\n",
       "      <td>0.436204</td>\n",
       "      <td>0.076251</td>\n",
       "      <td>0.320720</td>\n",
       "      <td>0.794032</td>\n",
       "      <td>0.801418</td>\n",
       "      <td>0.797696</td>\n",
       "    </tr>\n",
       "    <tr>\n",
       "      <td>4</td>\n",
       "      <td>No log</td>\n",
       "      <td>2.512715</td>\n",
       "      <td>0.480766</td>\n",
       "      <td>0.420845</td>\n",
       "      <td>0.083379</td>\n",
       "      <td>0.308800</td>\n",
       "      <td>0.792684</td>\n",
       "      <td>0.799292</td>\n",
       "      <td>0.795948</td>\n",
       "    </tr>\n",
       "    <tr>\n",
       "      <td>5</td>\n",
       "      <td>No log</td>\n",
       "      <td>2.584468</td>\n",
       "      <td>0.478726</td>\n",
       "      <td>0.418852</td>\n",
       "      <td>0.085877</td>\n",
       "      <td>0.315683</td>\n",
       "      <td>0.791828</td>\n",
       "      <td>0.800903</td>\n",
       "      <td>0.796311</td>\n",
       "    </tr>\n",
       "    <tr>\n",
       "      <td>6</td>\n",
       "      <td>No log</td>\n",
       "      <td>2.666605</td>\n",
       "      <td>0.482214</td>\n",
       "      <td>0.421009</td>\n",
       "      <td>0.081569</td>\n",
       "      <td>0.303906</td>\n",
       "      <td>0.790994</td>\n",
       "      <td>0.799647</td>\n",
       "      <td>0.795272</td>\n",
       "    </tr>\n",
       "  </tbody>\n",
       "</table><p>"
      ],
      "text/plain": [
       "<IPython.core.display.HTML object>"
      ]
     },
     "metadata": {},
     "output_type": "display_data"
    },
    {
     "name": "stdout",
     "output_type": "stream",
     "text": [
      "calculating scores...\n",
      "computing bert embedding.\n"
     ]
    },
    {
     "data": {
      "application/vnd.jupyter.widget-view+json": {
       "model_id": "1669efeed6e647bbb15e9d998178f42e",
       "version_major": 2,
       "version_minor": 0
      },
      "text/plain": [
       "  0%|          | 0/1 [00:00<?, ?it/s]"
      ]
     },
     "metadata": {},
     "output_type": "display_data"
    },
    {
     "name": "stdout",
     "output_type": "stream",
     "text": [
      "computing greedy matching.\n"
     ]
    },
    {
     "data": {
      "application/vnd.jupyter.widget-view+json": {
       "model_id": "9523038da4ff4bf685916aca6beaba4d",
       "version_major": 2,
       "version_minor": 0
      },
      "text/plain": [
       "  0%|          | 0/1 [00:00<?, ?it/s]"
      ]
     },
     "metadata": {},
     "output_type": "display_data"
    },
    {
     "name": "stdout",
     "output_type": "stream",
     "text": [
      "done in 0.05 seconds, 18.74 sentences/sec\n",
      "calculating scores...\n",
      "computing bert embedding.\n"
     ]
    },
    {
     "data": {
      "application/vnd.jupyter.widget-view+json": {
       "model_id": "96df19686e6c4b57ab2b37029ebeb492",
       "version_major": 2,
       "version_minor": 0
      },
      "text/plain": [
       "  0%|          | 0/1 [00:00<?, ?it/s]"
      ]
     },
     "metadata": {},
     "output_type": "display_data"
    },
    {
     "name": "stdout",
     "output_type": "stream",
     "text": [
      "computing greedy matching.\n"
     ]
    },
    {
     "data": {
      "application/vnd.jupyter.widget-view+json": {
       "model_id": "4366d8d756e941fbb6ccd5b918b024aa",
       "version_major": 2,
       "version_minor": 0
      },
      "text/plain": [
       "  0%|          | 0/1 [00:00<?, ?it/s]"
      ]
     },
     "metadata": {},
     "output_type": "display_data"
    },
    {
     "name": "stdout",
     "output_type": "stream",
     "text": [
      "done in 0.03 seconds, 33.78 sentences/sec\n",
      "calculating scores...\n",
      "computing bert embedding.\n"
     ]
    },
    {
     "data": {
      "application/vnd.jupyter.widget-view+json": {
       "model_id": "9038dfcaa5f640e0b6c5d805f81fa6e4",
       "version_major": 2,
       "version_minor": 0
      },
      "text/plain": [
       "  0%|          | 0/1 [00:00<?, ?it/s]"
      ]
     },
     "metadata": {},
     "output_type": "display_data"
    },
    {
     "name": "stdout",
     "output_type": "stream",
     "text": [
      "computing greedy matching.\n"
     ]
    },
    {
     "data": {
      "application/vnd.jupyter.widget-view+json": {
       "model_id": "588b423308c34d4390dc316da13e4f3c",
       "version_major": 2,
       "version_minor": 0
      },
      "text/plain": [
       "  0%|          | 0/1 [00:00<?, ?it/s]"
      ]
     },
     "metadata": {},
     "output_type": "display_data"
    },
    {
     "name": "stdout",
     "output_type": "stream",
     "text": [
      "done in 0.03 seconds, 36.24 sentences/sec\n",
      "calculating scores...\n",
      "computing bert embedding.\n"
     ]
    },
    {
     "data": {
      "application/vnd.jupyter.widget-view+json": {
       "model_id": "3e1cc51b7779441ea94af7a31b348e86",
       "version_major": 2,
       "version_minor": 0
      },
      "text/plain": [
       "  0%|          | 0/1 [00:00<?, ?it/s]"
      ]
     },
     "metadata": {},
     "output_type": "display_data"
    },
    {
     "name": "stdout",
     "output_type": "stream",
     "text": [
      "computing greedy matching.\n"
     ]
    },
    {
     "data": {
      "application/vnd.jupyter.widget-view+json": {
       "model_id": "a30dfd0d82514633af92c395941f7097",
       "version_major": 2,
       "version_minor": 0
      },
      "text/plain": [
       "  0%|          | 0/1 [00:00<?, ?it/s]"
      ]
     },
     "metadata": {},
     "output_type": "display_data"
    },
    {
     "name": "stdout",
     "output_type": "stream",
     "text": [
      "done in 0.03 seconds, 33.13 sentences/sec\n",
      "calculating scores...\n",
      "computing bert embedding.\n"
     ]
    },
    {
     "data": {
      "application/vnd.jupyter.widget-view+json": {
       "model_id": "df19f617dcce4b85bf25efce7e6cc8dd",
       "version_major": 2,
       "version_minor": 0
      },
      "text/plain": [
       "  0%|          | 0/1 [00:00<?, ?it/s]"
      ]
     },
     "metadata": {},
     "output_type": "display_data"
    },
    {
     "name": "stdout",
     "output_type": "stream",
     "text": [
      "computing greedy matching.\n"
     ]
    },
    {
     "data": {
      "application/vnd.jupyter.widget-view+json": {
       "model_id": "3d7579b11e97416283f5da82bce01b6f",
       "version_major": 2,
       "version_minor": 0
      },
      "text/plain": [
       "  0%|          | 0/1 [00:00<?, ?it/s]"
      ]
     },
     "metadata": {},
     "output_type": "display_data"
    },
    {
     "name": "stdout",
     "output_type": "stream",
     "text": [
      "done in 0.03 seconds, 32.92 sentences/sec\n",
      "calculating scores...\n",
      "computing bert embedding.\n"
     ]
    },
    {
     "data": {
      "application/vnd.jupyter.widget-view+json": {
       "model_id": "8c6457bb81e046ed8550cd21ecd8c32c",
       "version_major": 2,
       "version_minor": 0
      },
      "text/plain": [
       "  0%|          | 0/1 [00:00<?, ?it/s]"
      ]
     },
     "metadata": {},
     "output_type": "display_data"
    },
    {
     "name": "stdout",
     "output_type": "stream",
     "text": [
      "computing greedy matching.\n"
     ]
    },
    {
     "data": {
      "application/vnd.jupyter.widget-view+json": {
       "model_id": "141e3201b5a8459a93f41d056d765aad",
       "version_major": 2,
       "version_minor": 0
      },
      "text/plain": [
       "  0%|          | 0/1 [00:00<?, ?it/s]"
      ]
     },
     "metadata": {},
     "output_type": "display_data"
    },
    {
     "name": "stdout",
     "output_type": "stream",
     "text": [
      "done in 0.03 seconds, 34.84 sentences/sec\n",
      "calculating scores...\n",
      "computing bert embedding.\n"
     ]
    },
    {
     "data": {
      "application/vnd.jupyter.widget-view+json": {
       "model_id": "7e70b63af4344d77b97f84e0a16e2d4b",
       "version_major": 2,
       "version_minor": 0
      },
      "text/plain": [
       "  0%|          | 0/1 [00:00<?, ?it/s]"
      ]
     },
     "metadata": {},
     "output_type": "display_data"
    },
    {
     "name": "stdout",
     "output_type": "stream",
     "text": [
      "computing greedy matching.\n"
     ]
    },
    {
     "data": {
      "application/vnd.jupyter.widget-view+json": {
       "model_id": "b04d4b9cde014972b501d3ba91e6edaa",
       "version_major": 2,
       "version_minor": 0
      },
      "text/plain": [
       "  0%|          | 0/1 [00:00<?, ?it/s]"
      ]
     },
     "metadata": {},
     "output_type": "display_data"
    },
    {
     "name": "stdout",
     "output_type": "stream",
     "text": [
      "done in 0.03 seconds, 36.19 sentences/sec\n",
      "calculating scores...\n",
      "computing bert embedding.\n"
     ]
    },
    {
     "data": {
      "application/vnd.jupyter.widget-view+json": {
       "model_id": "7d12b3c2deff4caa9b8f1bba9fd8412b",
       "version_major": 2,
       "version_minor": 0
      },
      "text/plain": [
       "  0%|          | 0/1 [00:00<?, ?it/s]"
      ]
     },
     "metadata": {},
     "output_type": "display_data"
    },
    {
     "name": "stdout",
     "output_type": "stream",
     "text": [
      "computing greedy matching.\n"
     ]
    },
    {
     "data": {
      "application/vnd.jupyter.widget-view+json": {
       "model_id": "eaf47e812f9644179b070aa2131cc983",
       "version_major": 2,
       "version_minor": 0
      },
      "text/plain": [
       "  0%|          | 0/1 [00:00<?, ?it/s]"
      ]
     },
     "metadata": {},
     "output_type": "display_data"
    },
    {
     "name": "stdout",
     "output_type": "stream",
     "text": [
      "done in 0.03 seconds, 32.59 sentences/sec\n",
      "calculating scores...\n",
      "computing bert embedding.\n"
     ]
    },
    {
     "data": {
      "application/vnd.jupyter.widget-view+json": {
       "model_id": "f69208dfcf3049a7827cdf14f787b660",
       "version_major": 2,
       "version_minor": 0
      },
      "text/plain": [
       "  0%|          | 0/1 [00:00<?, ?it/s]"
      ]
     },
     "metadata": {},
     "output_type": "display_data"
    },
    {
     "name": "stdout",
     "output_type": "stream",
     "text": [
      "computing greedy matching.\n"
     ]
    },
    {
     "data": {
      "application/vnd.jupyter.widget-view+json": {
       "model_id": "6258251a92c045689c11042b80212aa5",
       "version_major": 2,
       "version_minor": 0
      },
      "text/plain": [
       "  0%|          | 0/1 [00:00<?, ?it/s]"
      ]
     },
     "metadata": {},
     "output_type": "display_data"
    },
    {
     "name": "stdout",
     "output_type": "stream",
     "text": [
      "done in 0.03 seconds, 34.14 sentences/sec\n",
      "calculating scores...\n",
      "computing bert embedding.\n"
     ]
    },
    {
     "data": {
      "application/vnd.jupyter.widget-view+json": {
       "model_id": "c204d97356c34dceaf40ba5385baf817",
       "version_major": 2,
       "version_minor": 0
      },
      "text/plain": [
       "  0%|          | 0/1 [00:00<?, ?it/s]"
      ]
     },
     "metadata": {},
     "output_type": "display_data"
    },
    {
     "name": "stdout",
     "output_type": "stream",
     "text": [
      "computing greedy matching.\n"
     ]
    },
    {
     "data": {
      "application/vnd.jupyter.widget-view+json": {
       "model_id": "13c793c5d23c4e5a83d7f8208869c4db",
       "version_major": 2,
       "version_minor": 0
      },
      "text/plain": [
       "  0%|          | 0/1 [00:00<?, ?it/s]"
      ]
     },
     "metadata": {},
     "output_type": "display_data"
    },
    {
     "name": "stdout",
     "output_type": "stream",
     "text": [
      "done in 0.03 seconds, 35.08 sentences/sec\n",
      "{'rouge1': Score(precision=0.47692307692307695, recall=0.4246575342465753, fmeasure=0.44927536231884063), 'rouge2': Score(precision=0.140625, recall=0.125, fmeasure=0.1323529411764706), 'rougeL': Score(precision=0.4, recall=0.3561643835616438, fmeasure=0.37681159420289856)}\n",
      "{'rouge1': Score(precision=0.3972602739726027, recall=0.38666666666666666, fmeasure=0.3918918918918919), 'rouge2': Score(precision=0.09722222222222222, recall=0.0945945945945946, fmeasure=0.0958904109589041), 'rougeL': Score(precision=0.3561643835616438, recall=0.3466666666666667, fmeasure=0.3513513513513513)}\n",
      "{'rouge1': Score(precision=0.4444444444444444, recall=0.34782608695652173, fmeasure=0.3902439024390244), 'rouge2': Score(precision=0.08571428571428572, recall=0.06666666666666667, fmeasure=0.075), 'rougeL': Score(precision=0.3611111111111111, recall=0.2826086956521739, fmeasure=0.3170731707317073)}\n",
      "{'rouge1': Score(precision=0.42168674698795183, recall=0.3977272727272727, fmeasure=0.40935672514619886), 'rouge2': Score(precision=0.0975609756097561, recall=0.09195402298850575, fmeasure=0.09467455621301775), 'rougeL': Score(precision=0.2891566265060241, recall=0.2727272727272727, fmeasure=0.2807017543859649)}\n",
      "{'rouge1': Score(precision=0.4578313253012048, recall=0.42696629213483145, fmeasure=0.441860465116279), 'rouge2': Score(precision=0.12195121951219512, recall=0.11363636363636363, fmeasure=0.1176470588235294), 'rougeL': Score(precision=0.3614457831325301, recall=0.33707865168539325, fmeasure=0.3488372093023256)}\n",
      "{'rouge1': Score(precision=0.36764705882352944, recall=0.36764705882352944, fmeasure=0.3676470588235295), 'rouge2': Score(precision=0.04477611940298507, recall=0.04477611940298507, fmeasure=0.04477611940298508), 'rougeL': Score(precision=0.3088235294117647, recall=0.3088235294117647, fmeasure=0.3088235294117647)}\n",
      "{'rouge1': Score(precision=0.375, recall=0.31343283582089554, fmeasure=0.34146341463414637), 'rouge2': Score(precision=0.07272727272727272, recall=0.06060606060606061, fmeasure=0.06611570247933884), 'rougeL': Score(precision=0.30357142857142855, recall=0.2537313432835821, fmeasure=0.2764227642276423)}\n",
      "{'rouge1': Score(precision=0.40963855421686746, recall=0.3953488372093023, fmeasure=0.4023668639053254), 'rouge2': Score(precision=0.08536585365853659, recall=0.08235294117647059, fmeasure=0.08383233532934131), 'rougeL': Score(precision=0.3253012048192771, recall=0.313953488372093, fmeasure=0.31952662721893493)}\n",
      "{'rouge1': Score(precision=0.45121951219512196, recall=0.39361702127659576, fmeasure=0.42045454545454547), 'rouge2': Score(precision=0.08641975308641975, recall=0.07526881720430108, fmeasure=0.08045977011494253), 'rougeL': Score(precision=0.34146341463414637, recall=0.2978723404255319, fmeasure=0.3181818181818182)}\n",
      "{'rouge1': Score(precision=0.3492063492063492, recall=0.34375, fmeasure=0.3464566929133858), 'rouge2': Score(precision=0.06451612903225806, recall=0.06349206349206349, fmeasure=0.064), 'rougeL': Score(precision=0.2857142857142857, recall=0.28125, fmeasure=0.28346456692913385)}\n",
      "calculating scores...\n",
      "computing bert embedding.\n"
     ]
    },
    {
     "data": {
      "application/vnd.jupyter.widget-view+json": {
       "model_id": "5b2eddfdba1f42739b6fcaa6e276c504",
       "version_major": 2,
       "version_minor": 0
      },
      "text/plain": [
       "  0%|          | 0/1 [00:00<?, ?it/s]"
      ]
     },
     "metadata": {},
     "output_type": "display_data"
    },
    {
     "name": "stdout",
     "output_type": "stream",
     "text": [
      "computing greedy matching.\n"
     ]
    },
    {
     "data": {
      "application/vnd.jupyter.widget-view+json": {
       "model_id": "d8bea69ff66f450181bd03d91389dc43",
       "version_major": 2,
       "version_minor": 0
      },
      "text/plain": [
       "  0%|          | 0/1 [00:00<?, ?it/s]"
      ]
     },
     "metadata": {},
     "output_type": "display_data"
    },
    {
     "name": "stdout",
     "output_type": "stream",
     "text": [
      "done in 0.04 seconds, 25.30 sentences/sec\n",
      "calculating scores...\n",
      "computing bert embedding.\n"
     ]
    },
    {
     "data": {
      "application/vnd.jupyter.widget-view+json": {
       "model_id": "59288107114540568375dd4446ddd5fa",
       "version_major": 2,
       "version_minor": 0
      },
      "text/plain": [
       "  0%|          | 0/1 [00:00<?, ?it/s]"
      ]
     },
     "metadata": {},
     "output_type": "display_data"
    },
    {
     "name": "stdout",
     "output_type": "stream",
     "text": [
      "computing greedy matching.\n"
     ]
    },
    {
     "data": {
      "application/vnd.jupyter.widget-view+json": {
       "model_id": "bc5398751e234b79abfaafbe9083f4ce",
       "version_major": 2,
       "version_minor": 0
      },
      "text/plain": [
       "  0%|          | 0/1 [00:00<?, ?it/s]"
      ]
     },
     "metadata": {},
     "output_type": "display_data"
    },
    {
     "name": "stdout",
     "output_type": "stream",
     "text": [
      "done in 0.04 seconds, 25.57 sentences/sec\n",
      "calculating scores...\n",
      "computing bert embedding.\n"
     ]
    },
    {
     "data": {
      "application/vnd.jupyter.widget-view+json": {
       "model_id": "9a91350686e340cbbf1b3403489674ec",
       "version_major": 2,
       "version_minor": 0
      },
      "text/plain": [
       "  0%|          | 0/1 [00:00<?, ?it/s]"
      ]
     },
     "metadata": {},
     "output_type": "display_data"
    },
    {
     "name": "stdout",
     "output_type": "stream",
     "text": [
      "computing greedy matching.\n"
     ]
    },
    {
     "data": {
      "application/vnd.jupyter.widget-view+json": {
       "model_id": "14b3c06e0678413888f2a220b75bb652",
       "version_major": 2,
       "version_minor": 0
      },
      "text/plain": [
       "  0%|          | 0/1 [00:00<?, ?it/s]"
      ]
     },
     "metadata": {},
     "output_type": "display_data"
    },
    {
     "name": "stdout",
     "output_type": "stream",
     "text": [
      "done in 0.04 seconds, 26.35 sentences/sec\n",
      "calculating scores...\n",
      "computing bert embedding.\n"
     ]
    },
    {
     "data": {
      "application/vnd.jupyter.widget-view+json": {
       "model_id": "a6230096bdab4123b57582d6a9fbfebd",
       "version_major": 2,
       "version_minor": 0
      },
      "text/plain": [
       "  0%|          | 0/1 [00:00<?, ?it/s]"
      ]
     },
     "metadata": {},
     "output_type": "display_data"
    },
    {
     "name": "stdout",
     "output_type": "stream",
     "text": [
      "computing greedy matching.\n"
     ]
    },
    {
     "data": {
      "application/vnd.jupyter.widget-view+json": {
       "model_id": "39edc76a5f374c619f3ae7b80d9e525a",
       "version_major": 2,
       "version_minor": 0
      },
      "text/plain": [
       "  0%|          | 0/1 [00:00<?, ?it/s]"
      ]
     },
     "metadata": {},
     "output_type": "display_data"
    },
    {
     "name": "stdout",
     "output_type": "stream",
     "text": [
      "done in 0.03 seconds, 32.92 sentences/sec\n",
      "calculating scores...\n",
      "computing bert embedding.\n"
     ]
    },
    {
     "data": {
      "application/vnd.jupyter.widget-view+json": {
       "model_id": "debf03623d3e4f72b24d9f09d8826107",
       "version_major": 2,
       "version_minor": 0
      },
      "text/plain": [
       "  0%|          | 0/1 [00:00<?, ?it/s]"
      ]
     },
     "metadata": {},
     "output_type": "display_data"
    },
    {
     "name": "stdout",
     "output_type": "stream",
     "text": [
      "computing greedy matching.\n"
     ]
    },
    {
     "data": {
      "application/vnd.jupyter.widget-view+json": {
       "model_id": "d615b90c3ca147cb819182f82aaabe6a",
       "version_major": 2,
       "version_minor": 0
      },
      "text/plain": [
       "  0%|          | 0/1 [00:00<?, ?it/s]"
      ]
     },
     "metadata": {},
     "output_type": "display_data"
    },
    {
     "name": "stdout",
     "output_type": "stream",
     "text": [
      "done in 0.04 seconds, 24.87 sentences/sec\n",
      "calculating scores...\n",
      "computing bert embedding.\n"
     ]
    },
    {
     "data": {
      "application/vnd.jupyter.widget-view+json": {
       "model_id": "3365ee570aee4939b15cb1f2c9032b79",
       "version_major": 2,
       "version_minor": 0
      },
      "text/plain": [
       "  0%|          | 0/1 [00:00<?, ?it/s]"
      ]
     },
     "metadata": {},
     "output_type": "display_data"
    },
    {
     "name": "stdout",
     "output_type": "stream",
     "text": [
      "computing greedy matching.\n"
     ]
    },
    {
     "data": {
      "application/vnd.jupyter.widget-view+json": {
       "model_id": "73c02d8f84864ad28e5194eb0455b4a1",
       "version_major": 2,
       "version_minor": 0
      },
      "text/plain": [
       "  0%|          | 0/1 [00:00<?, ?it/s]"
      ]
     },
     "metadata": {},
     "output_type": "display_data"
    },
    {
     "name": "stdout",
     "output_type": "stream",
     "text": [
      "done in 0.03 seconds, 33.84 sentences/sec\n",
      "calculating scores...\n",
      "computing bert embedding.\n"
     ]
    },
    {
     "data": {
      "application/vnd.jupyter.widget-view+json": {
       "model_id": "a547026684564a7a808fcad3bdb6117e",
       "version_major": 2,
       "version_minor": 0
      },
      "text/plain": [
       "  0%|          | 0/1 [00:00<?, ?it/s]"
      ]
     },
     "metadata": {},
     "output_type": "display_data"
    },
    {
     "name": "stdout",
     "output_type": "stream",
     "text": [
      "computing greedy matching.\n"
     ]
    },
    {
     "data": {
      "application/vnd.jupyter.widget-view+json": {
       "model_id": "5c83f45284094a00a00a59a4f2d7b458",
       "version_major": 2,
       "version_minor": 0
      },
      "text/plain": [
       "  0%|          | 0/1 [00:00<?, ?it/s]"
      ]
     },
     "metadata": {},
     "output_type": "display_data"
    },
    {
     "name": "stdout",
     "output_type": "stream",
     "text": [
      "done in 0.03 seconds, 36.49 sentences/sec\n",
      "calculating scores...\n",
      "computing bert embedding.\n"
     ]
    },
    {
     "data": {
      "application/vnd.jupyter.widget-view+json": {
       "model_id": "7d43707b74374c068143842940a2bc92",
       "version_major": 2,
       "version_minor": 0
      },
      "text/plain": [
       "  0%|          | 0/1 [00:00<?, ?it/s]"
      ]
     },
     "metadata": {},
     "output_type": "display_data"
    },
    {
     "name": "stdout",
     "output_type": "stream",
     "text": [
      "computing greedy matching.\n"
     ]
    },
    {
     "data": {
      "application/vnd.jupyter.widget-view+json": {
       "model_id": "03d6173ef16e4778afd325677a2a9f7a",
       "version_major": 2,
       "version_minor": 0
      },
      "text/plain": [
       "  0%|          | 0/1 [00:00<?, ?it/s]"
      ]
     },
     "metadata": {},
     "output_type": "display_data"
    },
    {
     "name": "stdout",
     "output_type": "stream",
     "text": [
      "done in 0.03 seconds, 32.51 sentences/sec\n",
      "calculating scores...\n",
      "computing bert embedding.\n"
     ]
    },
    {
     "data": {
      "application/vnd.jupyter.widget-view+json": {
       "model_id": "e65c82d27c0b4c9d990517081ab7c12d",
       "version_major": 2,
       "version_minor": 0
      },
      "text/plain": [
       "  0%|          | 0/1 [00:00<?, ?it/s]"
      ]
     },
     "metadata": {},
     "output_type": "display_data"
    },
    {
     "name": "stdout",
     "output_type": "stream",
     "text": [
      "computing greedy matching.\n"
     ]
    },
    {
     "data": {
      "application/vnd.jupyter.widget-view+json": {
       "model_id": "e69958c08c9a4970892e902aef4f147c",
       "version_major": 2,
       "version_minor": 0
      },
      "text/plain": [
       "  0%|          | 0/1 [00:00<?, ?it/s]"
      ]
     },
     "metadata": {},
     "output_type": "display_data"
    },
    {
     "name": "stdout",
     "output_type": "stream",
     "text": [
      "done in 0.03 seconds, 33.80 sentences/sec\n",
      "calculating scores...\n",
      "computing bert embedding.\n"
     ]
    },
    {
     "data": {
      "application/vnd.jupyter.widget-view+json": {
       "model_id": "8c159804caa0436fa36de5644ef3fdce",
       "version_major": 2,
       "version_minor": 0
      },
      "text/plain": [
       "  0%|          | 0/1 [00:00<?, ?it/s]"
      ]
     },
     "metadata": {},
     "output_type": "display_data"
    },
    {
     "name": "stdout",
     "output_type": "stream",
     "text": [
      "computing greedy matching.\n"
     ]
    },
    {
     "data": {
      "application/vnd.jupyter.widget-view+json": {
       "model_id": "9bcac5fb5d9f46338518a9c999882b6e",
       "version_major": 2,
       "version_minor": 0
      },
      "text/plain": [
       "  0%|          | 0/1 [00:00<?, ?it/s]"
      ]
     },
     "metadata": {},
     "output_type": "display_data"
    },
    {
     "name": "stdout",
     "output_type": "stream",
     "text": [
      "done in 0.03 seconds, 34.17 sentences/sec\n",
      "{'rouge1': Score(precision=0.5217391304347826, recall=0.4931506849315068, fmeasure=0.5070422535211269), 'rouge2': Score(precision=0.08823529411764706, recall=0.08333333333333333, fmeasure=0.08571428571428572), 'rougeL': Score(precision=0.37681159420289856, recall=0.3561643835616438, fmeasure=0.3661971830985915)}\n",
      "{'rouge1': Score(precision=0.4520547945205479, recall=0.44, fmeasure=0.44594594594594594), 'rouge2': Score(precision=0.08333333333333333, recall=0.08108108108108109, fmeasure=0.08219178082191782), 'rougeL': Score(precision=0.3424657534246575, recall=0.3333333333333333, fmeasure=0.33783783783783783)}\n",
      "{'rouge1': Score(precision=0.5121951219512195, recall=0.45652173913043476, fmeasure=0.48275862068965514), 'rouge2': Score(precision=0.15, recall=0.13333333333333333, fmeasure=0.1411764705882353), 'rougeL': Score(precision=0.4146341463414634, recall=0.3695652173913043, fmeasure=0.3908045977011494)}\n",
      "{'rouge1': Score(precision=0.42696629213483145, recall=0.4318181818181818, fmeasure=0.4293785310734463), 'rouge2': Score(precision=0.09090909090909091, recall=0.09195402298850575, fmeasure=0.09142857142857144), 'rougeL': Score(precision=0.29213483146067415, recall=0.29545454545454547, fmeasure=0.2937853107344633)}\n",
      "{'rouge1': Score(precision=0.4578313253012048, recall=0.42696629213483145, fmeasure=0.441860465116279), 'rouge2': Score(precision=0.12195121951219512, recall=0.11363636363636363, fmeasure=0.1176470588235294), 'rougeL': Score(precision=0.37349397590361444, recall=0.34831460674157305, fmeasure=0.3604651162790698)}\n",
      "{'rouge1': Score(precision=0.4117647058823529, recall=0.4117647058823529, fmeasure=0.4117647058823529), 'rouge2': Score(precision=0.04477611940298507, recall=0.04477611940298507, fmeasure=0.04477611940298508), 'rougeL': Score(precision=0.3382352941176471, recall=0.3382352941176471, fmeasure=0.3382352941176471)}\n",
      "{'rouge1': Score(precision=0.46774193548387094, recall=0.43283582089552236, fmeasure=0.44961240310077516), 'rouge2': Score(precision=0.06557377049180328, recall=0.06060606060606061, fmeasure=0.06299212598425195), 'rougeL': Score(precision=0.27419354838709675, recall=0.2537313432835821, fmeasure=0.2635658914728682)}\n",
      "{'rouge1': Score(precision=0.43529411764705883, recall=0.43023255813953487, fmeasure=0.4327485380116959), 'rouge2': Score(precision=0.07142857142857142, recall=0.07058823529411765, fmeasure=0.0710059171597633), 'rougeL': Score(precision=0.3176470588235294, recall=0.313953488372093, fmeasure=0.3157894736842105)}\n",
      "{'rouge1': Score(precision=0.4470588235294118, recall=0.40425531914893614, fmeasure=0.4245810055865922), 'rouge2': Score(precision=0.09523809523809523, recall=0.08602150537634409, fmeasure=0.0903954802259887), 'rougeL': Score(precision=0.3411764705882353, recall=0.30851063829787234, fmeasure=0.32402234636871513)}\n",
      "{'rouge1': Score(precision=0.4166666666666667, recall=0.390625, fmeasure=0.40322580645161293), 'rouge2': Score(precision=0.11864406779661017, recall=0.1111111111111111, fmeasure=0.11475409836065573), 'rougeL': Score(precision=0.31666666666666665, recall=0.296875, fmeasure=0.3064516129032258)}\n",
      "calculating scores...\n",
      "computing bert embedding.\n"
     ]
    },
    {
     "data": {
      "application/vnd.jupyter.widget-view+json": {
       "model_id": "d75d9568391740e7a7409ec236527215",
       "version_major": 2,
       "version_minor": 0
      },
      "text/plain": [
       "  0%|          | 0/1 [00:00<?, ?it/s]"
      ]
     },
     "metadata": {},
     "output_type": "display_data"
    },
    {
     "name": "stdout",
     "output_type": "stream",
     "text": [
      "computing greedy matching.\n"
     ]
    },
    {
     "data": {
      "application/vnd.jupyter.widget-view+json": {
       "model_id": "468e184930c143f08661b6ca0240eec2",
       "version_major": 2,
       "version_minor": 0
      },
      "text/plain": [
       "  0%|          | 0/1 [00:00<?, ?it/s]"
      ]
     },
     "metadata": {},
     "output_type": "display_data"
    },
    {
     "name": "stdout",
     "output_type": "stream",
     "text": [
      "done in 0.03 seconds, 30.62 sentences/sec\n",
      "calculating scores...\n",
      "computing bert embedding.\n"
     ]
    },
    {
     "data": {
      "application/vnd.jupyter.widget-view+json": {
       "model_id": "ffc2d20f0d074222918add98d34803b3",
       "version_major": 2,
       "version_minor": 0
      },
      "text/plain": [
       "  0%|          | 0/1 [00:00<?, ?it/s]"
      ]
     },
     "metadata": {},
     "output_type": "display_data"
    },
    {
     "name": "stdout",
     "output_type": "stream",
     "text": [
      "computing greedy matching.\n"
     ]
    },
    {
     "data": {
      "application/vnd.jupyter.widget-view+json": {
       "model_id": "eb2108922b1a435f94a305f13350ce13",
       "version_major": 2,
       "version_minor": 0
      },
      "text/plain": [
       "  0%|          | 0/1 [00:00<?, ?it/s]"
      ]
     },
     "metadata": {},
     "output_type": "display_data"
    },
    {
     "name": "stdout",
     "output_type": "stream",
     "text": [
      "done in 0.03 seconds, 31.33 sentences/sec\n",
      "calculating scores...\n",
      "computing bert embedding.\n"
     ]
    },
    {
     "data": {
      "application/vnd.jupyter.widget-view+json": {
       "model_id": "95d202487c304abe8cb8e81754b1ec46",
       "version_major": 2,
       "version_minor": 0
      },
      "text/plain": [
       "  0%|          | 0/1 [00:00<?, ?it/s]"
      ]
     },
     "metadata": {},
     "output_type": "display_data"
    },
    {
     "name": "stdout",
     "output_type": "stream",
     "text": [
      "computing greedy matching.\n"
     ]
    },
    {
     "data": {
      "application/vnd.jupyter.widget-view+json": {
       "model_id": "a18fa2392af644818c6949d7e1a672c7",
       "version_major": 2,
       "version_minor": 0
      },
      "text/plain": [
       "  0%|          | 0/1 [00:00<?, ?it/s]"
      ]
     },
     "metadata": {},
     "output_type": "display_data"
    },
    {
     "name": "stdout",
     "output_type": "stream",
     "text": [
      "done in 0.03 seconds, 33.34 sentences/sec\n",
      "calculating scores...\n",
      "computing bert embedding.\n"
     ]
    },
    {
     "data": {
      "application/vnd.jupyter.widget-view+json": {
       "model_id": "a28af3d707d342a4b78a171658562819",
       "version_major": 2,
       "version_minor": 0
      },
      "text/plain": [
       "  0%|          | 0/1 [00:00<?, ?it/s]"
      ]
     },
     "metadata": {},
     "output_type": "display_data"
    },
    {
     "name": "stdout",
     "output_type": "stream",
     "text": [
      "computing greedy matching.\n"
     ]
    },
    {
     "data": {
      "application/vnd.jupyter.widget-view+json": {
       "model_id": "5d00f5bf0c39441ea6d8b2678273e389",
       "version_major": 2,
       "version_minor": 0
      },
      "text/plain": [
       "  0%|          | 0/1 [00:00<?, ?it/s]"
      ]
     },
     "metadata": {},
     "output_type": "display_data"
    },
    {
     "name": "stdout",
     "output_type": "stream",
     "text": [
      "done in 0.03 seconds, 34.31 sentences/sec\n",
      "calculating scores...\n",
      "computing bert embedding.\n"
     ]
    },
    {
     "data": {
      "application/vnd.jupyter.widget-view+json": {
       "model_id": "c519f9d847b4488895bf15fc9ca717ba",
       "version_major": 2,
       "version_minor": 0
      },
      "text/plain": [
       "  0%|          | 0/1 [00:00<?, ?it/s]"
      ]
     },
     "metadata": {},
     "output_type": "display_data"
    },
    {
     "name": "stdout",
     "output_type": "stream",
     "text": [
      "computing greedy matching.\n"
     ]
    },
    {
     "data": {
      "application/vnd.jupyter.widget-view+json": {
       "model_id": "0e37a385ddb14b7d9ade1836bbc531b0",
       "version_major": 2,
       "version_minor": 0
      },
      "text/plain": [
       "  0%|          | 0/1 [00:00<?, ?it/s]"
      ]
     },
     "metadata": {},
     "output_type": "display_data"
    },
    {
     "name": "stdout",
     "output_type": "stream",
     "text": [
      "done in 0.03 seconds, 34.52 sentences/sec\n",
      "calculating scores...\n",
      "computing bert embedding.\n"
     ]
    },
    {
     "data": {
      "application/vnd.jupyter.widget-view+json": {
       "model_id": "011ba45f9c0a46508ccbc0681ee02b30",
       "version_major": 2,
       "version_minor": 0
      },
      "text/plain": [
       "  0%|          | 0/1 [00:00<?, ?it/s]"
      ]
     },
     "metadata": {},
     "output_type": "display_data"
    },
    {
     "name": "stdout",
     "output_type": "stream",
     "text": [
      "computing greedy matching.\n"
     ]
    },
    {
     "data": {
      "application/vnd.jupyter.widget-view+json": {
       "model_id": "43cac398adec4c40acabb2471468993b",
       "version_major": 2,
       "version_minor": 0
      },
      "text/plain": [
       "  0%|          | 0/1 [00:00<?, ?it/s]"
      ]
     },
     "metadata": {},
     "output_type": "display_data"
    },
    {
     "name": "stdout",
     "output_type": "stream",
     "text": [
      "done in 0.03 seconds, 34.04 sentences/sec\n",
      "calculating scores...\n",
      "computing bert embedding.\n"
     ]
    },
    {
     "data": {
      "application/vnd.jupyter.widget-view+json": {
       "model_id": "97879622d5724b4280d4c7b3d63e3d54",
       "version_major": 2,
       "version_minor": 0
      },
      "text/plain": [
       "  0%|          | 0/1 [00:00<?, ?it/s]"
      ]
     },
     "metadata": {},
     "output_type": "display_data"
    },
    {
     "name": "stdout",
     "output_type": "stream",
     "text": [
      "computing greedy matching.\n"
     ]
    },
    {
     "data": {
      "application/vnd.jupyter.widget-view+json": {
       "model_id": "9f55dad2f1954ab6bc1a13f2b550f3a8",
       "version_major": 2,
       "version_minor": 0
      },
      "text/plain": [
       "  0%|          | 0/1 [00:00<?, ?it/s]"
      ]
     },
     "metadata": {},
     "output_type": "display_data"
    },
    {
     "name": "stdout",
     "output_type": "stream",
     "text": [
      "done in 0.03 seconds, 36.18 sentences/sec\n",
      "calculating scores...\n",
      "computing bert embedding.\n"
     ]
    },
    {
     "data": {
      "application/vnd.jupyter.widget-view+json": {
       "model_id": "739a65ca806144998340716551ab1569",
       "version_major": 2,
       "version_minor": 0
      },
      "text/plain": [
       "  0%|          | 0/1 [00:00<?, ?it/s]"
      ]
     },
     "metadata": {},
     "output_type": "display_data"
    },
    {
     "name": "stdout",
     "output_type": "stream",
     "text": [
      "computing greedy matching.\n"
     ]
    },
    {
     "data": {
      "application/vnd.jupyter.widget-view+json": {
       "model_id": "500232b539f84d90b8aee5c70553a00f",
       "version_major": 2,
       "version_minor": 0
      },
      "text/plain": [
       "  0%|          | 0/1 [00:00<?, ?it/s]"
      ]
     },
     "metadata": {},
     "output_type": "display_data"
    },
    {
     "name": "stdout",
     "output_type": "stream",
     "text": [
      "done in 0.03 seconds, 32.70 sentences/sec\n",
      "calculating scores...\n",
      "computing bert embedding.\n"
     ]
    },
    {
     "data": {
      "application/vnd.jupyter.widget-view+json": {
       "model_id": "c969672169b0442db5b08f8f25973fc7",
       "version_major": 2,
       "version_minor": 0
      },
      "text/plain": [
       "  0%|          | 0/1 [00:00<?, ?it/s]"
      ]
     },
     "metadata": {},
     "output_type": "display_data"
    },
    {
     "name": "stdout",
     "output_type": "stream",
     "text": [
      "computing greedy matching.\n"
     ]
    },
    {
     "data": {
      "application/vnd.jupyter.widget-view+json": {
       "model_id": "b16a5279bcea4cd6a472014c35c29b6f",
       "version_major": 2,
       "version_minor": 0
      },
      "text/plain": [
       "  0%|          | 0/1 [00:00<?, ?it/s]"
      ]
     },
     "metadata": {},
     "output_type": "display_data"
    },
    {
     "name": "stdout",
     "output_type": "stream",
     "text": [
      "done in 0.03 seconds, 32.00 sentences/sec\n",
      "calculating scores...\n",
      "computing bert embedding.\n"
     ]
    },
    {
     "data": {
      "application/vnd.jupyter.widget-view+json": {
       "model_id": "2e9b50f0de6e4e21973b853ea3b23df5",
       "version_major": 2,
       "version_minor": 0
      },
      "text/plain": [
       "  0%|          | 0/1 [00:00<?, ?it/s]"
      ]
     },
     "metadata": {},
     "output_type": "display_data"
    },
    {
     "name": "stdout",
     "output_type": "stream",
     "text": [
      "computing greedy matching.\n"
     ]
    },
    {
     "data": {
      "application/vnd.jupyter.widget-view+json": {
       "model_id": "cb4025fed5764262a26d40d066cb79e4",
       "version_major": 2,
       "version_minor": 0
      },
      "text/plain": [
       "  0%|          | 0/1 [00:00<?, ?it/s]"
      ]
     },
     "metadata": {},
     "output_type": "display_data"
    },
    {
     "name": "stdout",
     "output_type": "stream",
     "text": [
      "done in 0.03 seconds, 36.37 sentences/sec\n",
      "{'rouge1': Score(precision=0.5373134328358209, recall=0.4931506849315068, fmeasure=0.5142857142857142), 'rouge2': Score(precision=0.07575757575757576, recall=0.06944444444444445, fmeasure=0.07246376811594202), 'rougeL': Score(precision=0.3582089552238806, recall=0.3287671232876712, fmeasure=0.34285714285714286)}\n",
      "{'rouge1': Score(precision=0.43243243243243246, recall=0.4266666666666667, fmeasure=0.42953020134228187), 'rouge2': Score(precision=0.0821917808219178, recall=0.08108108108108109, fmeasure=0.0816326530612245), 'rougeL': Score(precision=0.33783783783783783, recall=0.3333333333333333, fmeasure=0.3355704697986577)}\n",
      "{'rouge1': Score(precision=0.4883720930232558, recall=0.45652173913043476, fmeasure=0.47191011235955055), 'rouge2': Score(precision=0.11904761904761904, recall=0.1111111111111111, fmeasure=0.11494252873563218), 'rougeL': Score(precision=0.37209302325581395, recall=0.34782608695652173, fmeasure=0.35955056179775285)}\n",
      "{'rouge1': Score(precision=0.4175824175824176, recall=0.4318181818181818, fmeasure=0.4245810055865922), 'rouge2': Score(precision=0.12222222222222222, recall=0.12643678160919541, fmeasure=0.12429378531073446), 'rougeL': Score(precision=0.2967032967032967, recall=0.3068181818181818, fmeasure=0.3016759776536313)}\n",
      "{'rouge1': Score(precision=0.45121951219512196, recall=0.4157303370786517, fmeasure=0.4327485380116959), 'rouge2': Score(precision=0.1111111111111111, recall=0.10227272727272728, fmeasure=0.10650887573964497), 'rougeL': Score(precision=0.4024390243902439, recall=0.3707865168539326, fmeasure=0.3859649122807018)}\n",
      "{'rouge1': Score(precision=0.42424242424242425, recall=0.4117647058823529, fmeasure=0.41791044776119407), 'rouge2': Score(precision=0.046153846153846156, recall=0.04477611940298507, fmeasure=0.045454545454545456), 'rougeL': Score(precision=0.3484848484848485, recall=0.3382352941176471, fmeasure=0.3432835820895523)}\n",
      "{'rouge1': Score(precision=0.4838709677419355, recall=0.44776119402985076, fmeasure=0.4651162790697675), 'rouge2': Score(precision=0.03278688524590164, recall=0.030303030303030304, fmeasure=0.03149606299212598), 'rougeL': Score(precision=0.27419354838709675, recall=0.2537313432835821, fmeasure=0.2635658914728682)}\n",
      "{'rouge1': Score(precision=0.38372093023255816, recall=0.38372093023255816, fmeasure=0.3837209302325581), 'rouge2': Score(precision=0.023529411764705882, recall=0.023529411764705882, fmeasure=0.02352941176470588), 'rougeL': Score(precision=0.26744186046511625, recall=0.26744186046511625, fmeasure=0.26744186046511625)}\n",
      "{'rouge1': Score(precision=0.44047619047619047, recall=0.39361702127659576, fmeasure=0.4157303370786517), 'rouge2': Score(precision=0.08433734939759036, recall=0.07526881720430108, fmeasure=0.07954545454545454), 'rougeL': Score(precision=0.3333333333333333, recall=0.2978723404255319, fmeasure=0.3146067415730337)}\n",
      "{'rouge1': Score(precision=0.423728813559322, recall=0.390625, fmeasure=0.4065040650406504), 'rouge2': Score(precision=0.08620689655172414, recall=0.07936507936507936, fmeasure=0.08264462809917356), 'rougeL': Score(precision=0.3050847457627119, recall=0.28125, fmeasure=0.2926829268292683)}\n",
      "calculating scores...\n",
      "computing bert embedding.\n"
     ]
    },
    {
     "data": {
      "application/vnd.jupyter.widget-view+json": {
       "model_id": "f93d4b58f9a14b5dbd45d423763ea3d0",
       "version_major": 2,
       "version_minor": 0
      },
      "text/plain": [
       "  0%|          | 0/1 [00:00<?, ?it/s]"
      ]
     },
     "metadata": {},
     "output_type": "display_data"
    },
    {
     "name": "stdout",
     "output_type": "stream",
     "text": [
      "computing greedy matching.\n"
     ]
    },
    {
     "data": {
      "application/vnd.jupyter.widget-view+json": {
       "model_id": "b9bfa17a351644df9b565e17289297a6",
       "version_major": 2,
       "version_minor": 0
      },
      "text/plain": [
       "  0%|          | 0/1 [00:00<?, ?it/s]"
      ]
     },
     "metadata": {},
     "output_type": "display_data"
    },
    {
     "name": "stdout",
     "output_type": "stream",
     "text": [
      "done in 0.03 seconds, 34.00 sentences/sec\n",
      "calculating scores...\n",
      "computing bert embedding.\n"
     ]
    },
    {
     "data": {
      "application/vnd.jupyter.widget-view+json": {
       "model_id": "d40f587af87e4f4788329f959bcd3cde",
       "version_major": 2,
       "version_minor": 0
      },
      "text/plain": [
       "  0%|          | 0/1 [00:00<?, ?it/s]"
      ]
     },
     "metadata": {},
     "output_type": "display_data"
    },
    {
     "name": "stdout",
     "output_type": "stream",
     "text": [
      "computing greedy matching.\n"
     ]
    },
    {
     "data": {
      "application/vnd.jupyter.widget-view+json": {
       "model_id": "8fdc6a83e6fb4acb9c212676350883fa",
       "version_major": 2,
       "version_minor": 0
      },
      "text/plain": [
       "  0%|          | 0/1 [00:00<?, ?it/s]"
      ]
     },
     "metadata": {},
     "output_type": "display_data"
    },
    {
     "name": "stdout",
     "output_type": "stream",
     "text": [
      "done in 0.03 seconds, 35.44 sentences/sec\n",
      "calculating scores...\n",
      "computing bert embedding.\n"
     ]
    },
    {
     "data": {
      "application/vnd.jupyter.widget-view+json": {
       "model_id": "7bf27e929fff429b9f5771d1f6c45347",
       "version_major": 2,
       "version_minor": 0
      },
      "text/plain": [
       "  0%|          | 0/1 [00:00<?, ?it/s]"
      ]
     },
     "metadata": {},
     "output_type": "display_data"
    },
    {
     "name": "stdout",
     "output_type": "stream",
     "text": [
      "computing greedy matching.\n"
     ]
    },
    {
     "data": {
      "application/vnd.jupyter.widget-view+json": {
       "model_id": "ba936062f6fc4a6aafbb0e202d17256a",
       "version_major": 2,
       "version_minor": 0
      },
      "text/plain": [
       "  0%|          | 0/1 [00:00<?, ?it/s]"
      ]
     },
     "metadata": {},
     "output_type": "display_data"
    },
    {
     "name": "stdout",
     "output_type": "stream",
     "text": [
      "done in 0.03 seconds, 33.71 sentences/sec\n",
      "calculating scores...\n",
      "computing bert embedding.\n"
     ]
    },
    {
     "data": {
      "application/vnd.jupyter.widget-view+json": {
       "model_id": "057995e380b74719a86f151af43c4bb1",
       "version_major": 2,
       "version_minor": 0
      },
      "text/plain": [
       "  0%|          | 0/1 [00:00<?, ?it/s]"
      ]
     },
     "metadata": {},
     "output_type": "display_data"
    },
    {
     "name": "stdout",
     "output_type": "stream",
     "text": [
      "computing greedy matching.\n"
     ]
    },
    {
     "data": {
      "application/vnd.jupyter.widget-view+json": {
       "model_id": "378dfeb870f64a0588b98f0d926bb1f7",
       "version_major": 2,
       "version_minor": 0
      },
      "text/plain": [
       "  0%|          | 0/1 [00:00<?, ?it/s]"
      ]
     },
     "metadata": {},
     "output_type": "display_data"
    },
    {
     "name": "stdout",
     "output_type": "stream",
     "text": [
      "done in 0.03 seconds, 33.24 sentences/sec\n",
      "calculating scores...\n",
      "computing bert embedding.\n"
     ]
    },
    {
     "data": {
      "application/vnd.jupyter.widget-view+json": {
       "model_id": "a37733b1e6b0453598310674a856f3b1",
       "version_major": 2,
       "version_minor": 0
      },
      "text/plain": [
       "  0%|          | 0/1 [00:00<?, ?it/s]"
      ]
     },
     "metadata": {},
     "output_type": "display_data"
    },
    {
     "name": "stdout",
     "output_type": "stream",
     "text": [
      "computing greedy matching.\n"
     ]
    },
    {
     "data": {
      "application/vnd.jupyter.widget-view+json": {
       "model_id": "f4fcb85b6582489e8a9ceaa441089dfe",
       "version_major": 2,
       "version_minor": 0
      },
      "text/plain": [
       "  0%|          | 0/1 [00:00<?, ?it/s]"
      ]
     },
     "metadata": {},
     "output_type": "display_data"
    },
    {
     "name": "stdout",
     "output_type": "stream",
     "text": [
      "done in 0.03 seconds, 34.68 sentences/sec\n",
      "calculating scores...\n",
      "computing bert embedding.\n"
     ]
    },
    {
     "data": {
      "application/vnd.jupyter.widget-view+json": {
       "model_id": "bf1219af94f44f249c366a2aaef483de",
       "version_major": 2,
       "version_minor": 0
      },
      "text/plain": [
       "  0%|          | 0/1 [00:00<?, ?it/s]"
      ]
     },
     "metadata": {},
     "output_type": "display_data"
    },
    {
     "name": "stdout",
     "output_type": "stream",
     "text": [
      "computing greedy matching.\n"
     ]
    },
    {
     "data": {
      "application/vnd.jupyter.widget-view+json": {
       "model_id": "920418d03eb84baba7f6b81d3c98ac24",
       "version_major": 2,
       "version_minor": 0
      },
      "text/plain": [
       "  0%|          | 0/1 [00:00<?, ?it/s]"
      ]
     },
     "metadata": {},
     "output_type": "display_data"
    },
    {
     "name": "stdout",
     "output_type": "stream",
     "text": [
      "done in 0.03 seconds, 35.84 sentences/sec\n",
      "calculating scores...\n",
      "computing bert embedding.\n"
     ]
    },
    {
     "data": {
      "application/vnd.jupyter.widget-view+json": {
       "model_id": "f0b73b0bb9e34764b59428a648f17e24",
       "version_major": 2,
       "version_minor": 0
      },
      "text/plain": [
       "  0%|          | 0/1 [00:00<?, ?it/s]"
      ]
     },
     "metadata": {},
     "output_type": "display_data"
    },
    {
     "name": "stdout",
     "output_type": "stream",
     "text": [
      "computing greedy matching.\n"
     ]
    },
    {
     "data": {
      "application/vnd.jupyter.widget-view+json": {
       "model_id": "d878689e4bf1403c90bf010329bb13b6",
       "version_major": 2,
       "version_minor": 0
      },
      "text/plain": [
       "  0%|          | 0/1 [00:00<?, ?it/s]"
      ]
     },
     "metadata": {},
     "output_type": "display_data"
    },
    {
     "name": "stdout",
     "output_type": "stream",
     "text": [
      "done in 0.03 seconds, 32.62 sentences/sec\n",
      "calculating scores...\n",
      "computing bert embedding.\n"
     ]
    },
    {
     "data": {
      "application/vnd.jupyter.widget-view+json": {
       "model_id": "7a65d54a039b4040ae8ded18e4c7622d",
       "version_major": 2,
       "version_minor": 0
      },
      "text/plain": [
       "  0%|          | 0/1 [00:00<?, ?it/s]"
      ]
     },
     "metadata": {},
     "output_type": "display_data"
    },
    {
     "name": "stdout",
     "output_type": "stream",
     "text": [
      "computing greedy matching.\n"
     ]
    },
    {
     "data": {
      "application/vnd.jupyter.widget-view+json": {
       "model_id": "2ddea7c15dbb4b81acdbb11975286961",
       "version_major": 2,
       "version_minor": 0
      },
      "text/plain": [
       "  0%|          | 0/1 [00:00<?, ?it/s]"
      ]
     },
     "metadata": {},
     "output_type": "display_data"
    },
    {
     "name": "stdout",
     "output_type": "stream",
     "text": [
      "done in 0.03 seconds, 34.41 sentences/sec\n",
      "calculating scores...\n",
      "computing bert embedding.\n"
     ]
    },
    {
     "data": {
      "application/vnd.jupyter.widget-view+json": {
       "model_id": "582cb8b6a3d54d098cc8df5c7c39f62b",
       "version_major": 2,
       "version_minor": 0
      },
      "text/plain": [
       "  0%|          | 0/1 [00:00<?, ?it/s]"
      ]
     },
     "metadata": {},
     "output_type": "display_data"
    },
    {
     "name": "stdout",
     "output_type": "stream",
     "text": [
      "computing greedy matching.\n"
     ]
    },
    {
     "data": {
      "application/vnd.jupyter.widget-view+json": {
       "model_id": "8280d0694ad84833ab0d832cd480ff84",
       "version_major": 2,
       "version_minor": 0
      },
      "text/plain": [
       "  0%|          | 0/1 [00:00<?, ?it/s]"
      ]
     },
     "metadata": {},
     "output_type": "display_data"
    },
    {
     "name": "stdout",
     "output_type": "stream",
     "text": [
      "done in 0.03 seconds, 33.99 sentences/sec\n",
      "calculating scores...\n",
      "computing bert embedding.\n"
     ]
    },
    {
     "data": {
      "application/vnd.jupyter.widget-view+json": {
       "model_id": "55d619e53a1e423a895dbd9a2aeb3221",
       "version_major": 2,
       "version_minor": 0
      },
      "text/plain": [
       "  0%|          | 0/1 [00:00<?, ?it/s]"
      ]
     },
     "metadata": {},
     "output_type": "display_data"
    },
    {
     "name": "stdout",
     "output_type": "stream",
     "text": [
      "computing greedy matching.\n"
     ]
    },
    {
     "data": {
      "application/vnd.jupyter.widget-view+json": {
       "model_id": "f027db4bdd5e44379fac233259304846",
       "version_major": 2,
       "version_minor": 0
      },
      "text/plain": [
       "  0%|          | 0/1 [00:00<?, ?it/s]"
      ]
     },
     "metadata": {},
     "output_type": "display_data"
    },
    {
     "name": "stdout",
     "output_type": "stream",
     "text": [
      "done in 0.03 seconds, 35.24 sentences/sec\n",
      "{'rouge1': Score(precision=0.5, recall=0.4794520547945205, fmeasure=0.48951048951048953), 'rouge2': Score(precision=0.11594202898550725, recall=0.1111111111111111, fmeasure=0.11347517730496454), 'rougeL': Score(precision=0.37142857142857144, recall=0.3561643835616438, fmeasure=0.36363636363636365)}\n",
      "{'rouge1': Score(precision=0.4027777777777778, recall=0.38666666666666666, fmeasure=0.3945578231292517), 'rouge2': Score(precision=0.04225352112676056, recall=0.04054054054054054, fmeasure=0.041379310344827586), 'rougeL': Score(precision=0.3194444444444444, recall=0.30666666666666664, fmeasure=0.31292517006802717)}\n",
      "{'rouge1': Score(precision=0.4222222222222222, recall=0.41304347826086957, fmeasure=0.4175824175824176), 'rouge2': Score(precision=0.09090909090909091, recall=0.08888888888888889, fmeasure=0.0898876404494382), 'rougeL': Score(precision=0.3111111111111111, recall=0.30434782608695654, fmeasure=0.3076923076923077)}\n",
      "{'rouge1': Score(precision=0.42696629213483145, recall=0.4318181818181818, fmeasure=0.4293785310734463), 'rouge2': Score(precision=0.14772727272727273, recall=0.14942528735632185, fmeasure=0.14857142857142858), 'rougeL': Score(precision=0.3258426966292135, recall=0.32954545454545453, fmeasure=0.3276836158192091)}\n",
      "{'rouge1': Score(precision=0.4523809523809524, recall=0.42696629213483145, fmeasure=0.4393063583815029), 'rouge2': Score(precision=0.10843373493975904, recall=0.10227272727272728, fmeasure=0.10526315789473684), 'rougeL': Score(precision=0.36904761904761907, recall=0.34831460674157305, fmeasure=0.3583815028901735)}\n",
      "{'rouge1': Score(precision=0.35294117647058826, recall=0.35294117647058826, fmeasure=0.35294117647058826), 'rouge2': Score(precision=0.029850746268656716, recall=0.029850746268656716, fmeasure=0.029850746268656716), 'rougeL': Score(precision=0.2647058823529412, recall=0.2647058823529412, fmeasure=0.2647058823529412)}\n",
      "{'rouge1': Score(precision=0.47540983606557374, recall=0.43283582089552236, fmeasure=0.45312499999999994), 'rouge2': Score(precision=0.05, recall=0.045454545454545456, fmeasure=0.04761904761904762), 'rougeL': Score(precision=0.26229508196721313, recall=0.23880597014925373, fmeasure=0.25)}\n",
      "{'rouge1': Score(precision=0.39080459770114945, recall=0.3953488372093023, fmeasure=0.39306358381502887), 'rouge2': Score(precision=0.03488372093023256, recall=0.03529411764705882, fmeasure=0.03508771929824562), 'rougeL': Score(precision=0.27586206896551724, recall=0.27906976744186046, fmeasure=0.27745664739884396)}\n",
      "{'rouge1': Score(precision=0.4588235294117647, recall=0.4148936170212766, fmeasure=0.435754189944134), 'rouge2': Score(precision=0.13095238095238096, recall=0.11827956989247312, fmeasure=0.12429378531073447), 'rougeL': Score(precision=0.35294117647058826, recall=0.3191489361702128, fmeasure=0.335195530726257)}\n",
      "{'rouge1': Score(precision=0.4166666666666667, recall=0.390625, fmeasure=0.40322580645161293), 'rouge2': Score(precision=0.1016949152542373, recall=0.09523809523809523, fmeasure=0.09836065573770492), 'rougeL': Score(precision=0.3, recall=0.28125, fmeasure=0.29032258064516125)}\n",
      "calculating scores...\n",
      "computing bert embedding.\n"
     ]
    },
    {
     "data": {
      "application/vnd.jupyter.widget-view+json": {
       "model_id": "17b15b1876fc4cd483b87b34f429bcf2",
       "version_major": 2,
       "version_minor": 0
      },
      "text/plain": [
       "  0%|          | 0/1 [00:00<?, ?it/s]"
      ]
     },
     "metadata": {},
     "output_type": "display_data"
    },
    {
     "name": "stdout",
     "output_type": "stream",
     "text": [
      "computing greedy matching.\n"
     ]
    },
    {
     "data": {
      "application/vnd.jupyter.widget-view+json": {
       "model_id": "b8ee67b5fefa4cc8a7bc4be7226502c3",
       "version_major": 2,
       "version_minor": 0
      },
      "text/plain": [
       "  0%|          | 0/1 [00:00<?, ?it/s]"
      ]
     },
     "metadata": {},
     "output_type": "display_data"
    },
    {
     "name": "stdout",
     "output_type": "stream",
     "text": [
      "done in 0.03 seconds, 35.52 sentences/sec\n",
      "calculating scores...\n",
      "computing bert embedding.\n"
     ]
    },
    {
     "data": {
      "application/vnd.jupyter.widget-view+json": {
       "model_id": "7b80cba58053457c88298a77575455cb",
       "version_major": 2,
       "version_minor": 0
      },
      "text/plain": [
       "  0%|          | 0/1 [00:00<?, ?it/s]"
      ]
     },
     "metadata": {},
     "output_type": "display_data"
    },
    {
     "name": "stdout",
     "output_type": "stream",
     "text": [
      "computing greedy matching.\n"
     ]
    },
    {
     "data": {
      "application/vnd.jupyter.widget-view+json": {
       "model_id": "9f4377b885214b14b6c9342929e2bfee",
       "version_major": 2,
       "version_minor": 0
      },
      "text/plain": [
       "  0%|          | 0/1 [00:00<?, ?it/s]"
      ]
     },
     "metadata": {},
     "output_type": "display_data"
    },
    {
     "name": "stdout",
     "output_type": "stream",
     "text": [
      "done in 0.03 seconds, 31.95 sentences/sec\n",
      "calculating scores...\n",
      "computing bert embedding.\n"
     ]
    },
    {
     "data": {
      "application/vnd.jupyter.widget-view+json": {
       "model_id": "6b3b9cef40904402a6350828a293b611",
       "version_major": 2,
       "version_minor": 0
      },
      "text/plain": [
       "  0%|          | 0/1 [00:00<?, ?it/s]"
      ]
     },
     "metadata": {},
     "output_type": "display_data"
    },
    {
     "name": "stdout",
     "output_type": "stream",
     "text": [
      "computing greedy matching.\n"
     ]
    },
    {
     "data": {
      "application/vnd.jupyter.widget-view+json": {
       "model_id": "3da4eb9402f84dada6e3542ad366fa5f",
       "version_major": 2,
       "version_minor": 0
      },
      "text/plain": [
       "  0%|          | 0/1 [00:00<?, ?it/s]"
      ]
     },
     "metadata": {},
     "output_type": "display_data"
    },
    {
     "name": "stdout",
     "output_type": "stream",
     "text": [
      "done in 0.03 seconds, 32.66 sentences/sec\n",
      "calculating scores...\n",
      "computing bert embedding.\n"
     ]
    },
    {
     "data": {
      "application/vnd.jupyter.widget-view+json": {
       "model_id": "69602cb3717f407e8788157c4a4fc52e",
       "version_major": 2,
       "version_minor": 0
      },
      "text/plain": [
       "  0%|          | 0/1 [00:00<?, ?it/s]"
      ]
     },
     "metadata": {},
     "output_type": "display_data"
    },
    {
     "name": "stdout",
     "output_type": "stream",
     "text": [
      "computing greedy matching.\n"
     ]
    },
    {
     "data": {
      "application/vnd.jupyter.widget-view+json": {
       "model_id": "71f67cfcfc454434bce5e65d7eacb5b0",
       "version_major": 2,
       "version_minor": 0
      },
      "text/plain": [
       "  0%|          | 0/1 [00:00<?, ?it/s]"
      ]
     },
     "metadata": {},
     "output_type": "display_data"
    },
    {
     "name": "stdout",
     "output_type": "stream",
     "text": [
      "done in 0.03 seconds, 32.75 sentences/sec\n",
      "calculating scores...\n",
      "computing bert embedding.\n"
     ]
    },
    {
     "data": {
      "application/vnd.jupyter.widget-view+json": {
       "model_id": "2b265b3cc2644b54bcabfde955d1fbed",
       "version_major": 2,
       "version_minor": 0
      },
      "text/plain": [
       "  0%|          | 0/1 [00:00<?, ?it/s]"
      ]
     },
     "metadata": {},
     "output_type": "display_data"
    },
    {
     "name": "stdout",
     "output_type": "stream",
     "text": [
      "computing greedy matching.\n"
     ]
    },
    {
     "data": {
      "application/vnd.jupyter.widget-view+json": {
       "model_id": "d9a6d4d0ed384771b2ffbbef23e67edd",
       "version_major": 2,
       "version_minor": 0
      },
      "text/plain": [
       "  0%|          | 0/1 [00:00<?, ?it/s]"
      ]
     },
     "metadata": {},
     "output_type": "display_data"
    },
    {
     "name": "stdout",
     "output_type": "stream",
     "text": [
      "done in 0.03 seconds, 34.86 sentences/sec\n",
      "calculating scores...\n",
      "computing bert embedding.\n"
     ]
    },
    {
     "data": {
      "application/vnd.jupyter.widget-view+json": {
       "model_id": "f8d457793dcb40c9bb61376e8e3623ab",
       "version_major": 2,
       "version_minor": 0
      },
      "text/plain": [
       "  0%|          | 0/1 [00:00<?, ?it/s]"
      ]
     },
     "metadata": {},
     "output_type": "display_data"
    },
    {
     "name": "stdout",
     "output_type": "stream",
     "text": [
      "computing greedy matching.\n"
     ]
    },
    {
     "data": {
      "application/vnd.jupyter.widget-view+json": {
       "model_id": "3a1a6da0e87245acaa633b73d117abbd",
       "version_major": 2,
       "version_minor": 0
      },
      "text/plain": [
       "  0%|          | 0/1 [00:00<?, ?it/s]"
      ]
     },
     "metadata": {},
     "output_type": "display_data"
    },
    {
     "name": "stdout",
     "output_type": "stream",
     "text": [
      "done in 0.03 seconds, 35.62 sentences/sec\n",
      "calculating scores...\n",
      "computing bert embedding.\n"
     ]
    },
    {
     "data": {
      "application/vnd.jupyter.widget-view+json": {
       "model_id": "fb127ea22dde444c981efe8db368760d",
       "version_major": 2,
       "version_minor": 0
      },
      "text/plain": [
       "  0%|          | 0/1 [00:00<?, ?it/s]"
      ]
     },
     "metadata": {},
     "output_type": "display_data"
    },
    {
     "name": "stdout",
     "output_type": "stream",
     "text": [
      "computing greedy matching.\n"
     ]
    },
    {
     "data": {
      "application/vnd.jupyter.widget-view+json": {
       "model_id": "52636cd3f3824b0d95558a6c32327ca1",
       "version_major": 2,
       "version_minor": 0
      },
      "text/plain": [
       "  0%|          | 0/1 [00:00<?, ?it/s]"
      ]
     },
     "metadata": {},
     "output_type": "display_data"
    },
    {
     "name": "stdout",
     "output_type": "stream",
     "text": [
      "done in 0.03 seconds, 35.37 sentences/sec\n",
      "calculating scores...\n",
      "computing bert embedding.\n"
     ]
    },
    {
     "data": {
      "application/vnd.jupyter.widget-view+json": {
       "model_id": "4002b2f0f1af4f8ba3658a95f55931c2",
       "version_major": 2,
       "version_minor": 0
      },
      "text/plain": [
       "  0%|          | 0/1 [00:00<?, ?it/s]"
      ]
     },
     "metadata": {},
     "output_type": "display_data"
    },
    {
     "name": "stdout",
     "output_type": "stream",
     "text": [
      "computing greedy matching.\n"
     ]
    },
    {
     "data": {
      "application/vnd.jupyter.widget-view+json": {
       "model_id": "8734953c5beb48679f552fcadd14f396",
       "version_major": 2,
       "version_minor": 0
      },
      "text/plain": [
       "  0%|          | 0/1 [00:00<?, ?it/s]"
      ]
     },
     "metadata": {},
     "output_type": "display_data"
    },
    {
     "name": "stdout",
     "output_type": "stream",
     "text": [
      "done in 0.03 seconds, 34.77 sentences/sec\n",
      "calculating scores...\n",
      "computing bert embedding.\n"
     ]
    },
    {
     "data": {
      "application/vnd.jupyter.widget-view+json": {
       "model_id": "df23428fed8e487fad868c4cf3123ec9",
       "version_major": 2,
       "version_minor": 0
      },
      "text/plain": [
       "  0%|          | 0/1 [00:00<?, ?it/s]"
      ]
     },
     "metadata": {},
     "output_type": "display_data"
    },
    {
     "name": "stdout",
     "output_type": "stream",
     "text": [
      "computing greedy matching.\n"
     ]
    },
    {
     "data": {
      "application/vnd.jupyter.widget-view+json": {
       "model_id": "434a28f324634b368cb30cbfe4389c0b",
       "version_major": 2,
       "version_minor": 0
      },
      "text/plain": [
       "  0%|          | 0/1 [00:00<?, ?it/s]"
      ]
     },
     "metadata": {},
     "output_type": "display_data"
    },
    {
     "name": "stdout",
     "output_type": "stream",
     "text": [
      "done in 0.03 seconds, 33.29 sentences/sec\n",
      "calculating scores...\n",
      "computing bert embedding.\n"
     ]
    },
    {
     "data": {
      "application/vnd.jupyter.widget-view+json": {
       "model_id": "bb824b2cee8749dd9075600282b97ef8",
       "version_major": 2,
       "version_minor": 0
      },
      "text/plain": [
       "  0%|          | 0/1 [00:00<?, ?it/s]"
      ]
     },
     "metadata": {},
     "output_type": "display_data"
    },
    {
     "name": "stdout",
     "output_type": "stream",
     "text": [
      "computing greedy matching.\n"
     ]
    },
    {
     "data": {
      "application/vnd.jupyter.widget-view+json": {
       "model_id": "342982c4cc06454fb688f0c0146e6123",
       "version_major": 2,
       "version_minor": 0
      },
      "text/plain": [
       "  0%|          | 0/1 [00:00<?, ?it/s]"
      ]
     },
     "metadata": {},
     "output_type": "display_data"
    },
    {
     "name": "stdout",
     "output_type": "stream",
     "text": [
      "done in 0.03 seconds, 34.95 sentences/sec\n",
      "{'rouge1': Score(precision=0.5285714285714286, recall=0.5068493150684932, fmeasure=0.5174825174825174), 'rouge2': Score(precision=0.11594202898550725, recall=0.1111111111111111, fmeasure=0.11347517730496454), 'rougeL': Score(precision=0.37142857142857144, recall=0.3561643835616438, fmeasure=0.36363636363636365)}\n",
      "{'rouge1': Score(precision=0.4166666666666667, recall=0.4, fmeasure=0.4081632653061225), 'rouge2': Score(precision=0.08450704225352113, recall=0.08108108108108109, fmeasure=0.08275862068965517), 'rougeL': Score(precision=0.3611111111111111, recall=0.3466666666666667, fmeasure=0.3537414965986394)}\n",
      "{'rouge1': Score(precision=0.4, recall=0.391304347826087, fmeasure=0.3956043956043956), 'rouge2': Score(precision=0.11363636363636363, recall=0.1111111111111111, fmeasure=0.11235955056179774), 'rougeL': Score(precision=0.35555555555555557, recall=0.34782608695652173, fmeasure=0.3516483516483516)}\n",
      "{'rouge1': Score(precision=0.4090909090909091, recall=0.4090909090909091, fmeasure=0.4090909090909091), 'rouge2': Score(precision=0.13793103448275862, recall=0.13793103448275862, fmeasure=0.13793103448275862), 'rougeL': Score(precision=0.32954545454545453, recall=0.32954545454545453, fmeasure=0.32954545454545453)}\n",
      "{'rouge1': Score(precision=0.4367816091954023, recall=0.42696629213483145, fmeasure=0.43181818181818177), 'rouge2': Score(precision=0.10465116279069768, recall=0.10227272727272728, fmeasure=0.10344827586206898), 'rougeL': Score(precision=0.367816091954023, recall=0.3595505617977528, fmeasure=0.36363636363636365)}\n",
      "{'rouge1': Score(precision=0.3582089552238806, recall=0.35294117647058826, fmeasure=0.35555555555555557), 'rouge2': Score(precision=0.030303030303030304, recall=0.029850746268656716, fmeasure=0.03007518796992481), 'rougeL': Score(precision=0.26865671641791045, recall=0.2647058823529412, fmeasure=0.2666666666666666)}\n",
      "{'rouge1': Score(precision=0.45161290322580644, recall=0.417910447761194, fmeasure=0.43410852713178294), 'rouge2': Score(precision=0.06557377049180328, recall=0.06060606060606061, fmeasure=0.06299212598425195), 'rougeL': Score(precision=0.2903225806451613, recall=0.26865671641791045, fmeasure=0.27906976744186046)}\n",
      "{'rouge1': Score(precision=0.41379310344827586, recall=0.4186046511627907, fmeasure=0.41618497109826585), 'rouge2': Score(precision=0.03488372093023256, recall=0.03529411764705882, fmeasure=0.03508771929824562), 'rougeL': Score(precision=0.27586206896551724, recall=0.27906976744186046, fmeasure=0.27745664739884396)}\n",
      "{'rouge1': Score(precision=0.45454545454545453, recall=0.425531914893617, fmeasure=0.43956043956043955), 'rouge2': Score(precision=0.10344827586206896, recall=0.0967741935483871, fmeasure=0.09999999999999999), 'rougeL': Score(precision=0.29545454545454547, recall=0.2765957446808511, fmeasure=0.2857142857142857)}\n",
      "{'rouge1': Score(precision=0.3870967741935484, recall=0.375, fmeasure=0.38095238095238093), 'rouge2': Score(precision=0.08196721311475409, recall=0.07936507936507936, fmeasure=0.08064516129032258), 'rougeL': Score(precision=0.2903225806451613, recall=0.28125, fmeasure=0.28571428571428575)}\n",
      "calculating scores...\n",
      "computing bert embedding.\n"
     ]
    },
    {
     "data": {
      "application/vnd.jupyter.widget-view+json": {
       "model_id": "def9fb6d08544dc4aa2e5afc8edf34d9",
       "version_major": 2,
       "version_minor": 0
      },
      "text/plain": [
       "  0%|          | 0/1 [00:00<?, ?it/s]"
      ]
     },
     "metadata": {},
     "output_type": "display_data"
    },
    {
     "name": "stdout",
     "output_type": "stream",
     "text": [
      "computing greedy matching.\n"
     ]
    },
    {
     "data": {
      "application/vnd.jupyter.widget-view+json": {
       "model_id": "a2d5964e0d62414f8411cd72fd283267",
       "version_major": 2,
       "version_minor": 0
      },
      "text/plain": [
       "  0%|          | 0/1 [00:00<?, ?it/s]"
      ]
     },
     "metadata": {},
     "output_type": "display_data"
    },
    {
     "name": "stdout",
     "output_type": "stream",
     "text": [
      "done in 0.03 seconds, 35.76 sentences/sec\n",
      "calculating scores...\n",
      "computing bert embedding.\n"
     ]
    },
    {
     "data": {
      "application/vnd.jupyter.widget-view+json": {
       "model_id": "d40a8b18382d4aaba019857fb36ddc00",
       "version_major": 2,
       "version_minor": 0
      },
      "text/plain": [
       "  0%|          | 0/1 [00:00<?, ?it/s]"
      ]
     },
     "metadata": {},
     "output_type": "display_data"
    },
    {
     "name": "stdout",
     "output_type": "stream",
     "text": [
      "computing greedy matching.\n"
     ]
    },
    {
     "data": {
      "application/vnd.jupyter.widget-view+json": {
       "model_id": "1771c48c350d4b4787131b0c7faf846c",
       "version_major": 2,
       "version_minor": 0
      },
      "text/plain": [
       "  0%|          | 0/1 [00:00<?, ?it/s]"
      ]
     },
     "metadata": {},
     "output_type": "display_data"
    },
    {
     "name": "stdout",
     "output_type": "stream",
     "text": [
      "done in 0.03 seconds, 35.10 sentences/sec\n",
      "calculating scores...\n",
      "computing bert embedding.\n"
     ]
    },
    {
     "data": {
      "application/vnd.jupyter.widget-view+json": {
       "model_id": "2f2106a796e34013b8b886203065a6e8",
       "version_major": 2,
       "version_minor": 0
      },
      "text/plain": [
       "  0%|          | 0/1 [00:00<?, ?it/s]"
      ]
     },
     "metadata": {},
     "output_type": "display_data"
    },
    {
     "name": "stdout",
     "output_type": "stream",
     "text": [
      "computing greedy matching.\n"
     ]
    },
    {
     "data": {
      "application/vnd.jupyter.widget-view+json": {
       "model_id": "45403b6bbd9e409badf001ef61a44e39",
       "version_major": 2,
       "version_minor": 0
      },
      "text/plain": [
       "  0%|          | 0/1 [00:00<?, ?it/s]"
      ]
     },
     "metadata": {},
     "output_type": "display_data"
    },
    {
     "name": "stdout",
     "output_type": "stream",
     "text": [
      "done in 0.03 seconds, 34.82 sentences/sec\n",
      "calculating scores...\n",
      "computing bert embedding.\n"
     ]
    },
    {
     "data": {
      "application/vnd.jupyter.widget-view+json": {
       "model_id": "1faf6b571f78405eb53302a4377415fb",
       "version_major": 2,
       "version_minor": 0
      },
      "text/plain": [
       "  0%|          | 0/1 [00:00<?, ?it/s]"
      ]
     },
     "metadata": {},
     "output_type": "display_data"
    },
    {
     "name": "stdout",
     "output_type": "stream",
     "text": [
      "computing greedy matching.\n"
     ]
    },
    {
     "data": {
      "application/vnd.jupyter.widget-view+json": {
       "model_id": "9b9c583a30c24916a65d7e838338ff81",
       "version_major": 2,
       "version_minor": 0
      },
      "text/plain": [
       "  0%|          | 0/1 [00:00<?, ?it/s]"
      ]
     },
     "metadata": {},
     "output_type": "display_data"
    },
    {
     "name": "stdout",
     "output_type": "stream",
     "text": [
      "done in 0.03 seconds, 34.25 sentences/sec\n",
      "calculating scores...\n",
      "computing bert embedding.\n"
     ]
    },
    {
     "data": {
      "application/vnd.jupyter.widget-view+json": {
       "model_id": "768caaa4f76d427a92c73d397f0abf3d",
       "version_major": 2,
       "version_minor": 0
      },
      "text/plain": [
       "  0%|          | 0/1 [00:00<?, ?it/s]"
      ]
     },
     "metadata": {},
     "output_type": "display_data"
    },
    {
     "name": "stdout",
     "output_type": "stream",
     "text": [
      "computing greedy matching.\n"
     ]
    },
    {
     "data": {
      "application/vnd.jupyter.widget-view+json": {
       "model_id": "8d64bdf306bf4b349f535f292cc21113",
       "version_major": 2,
       "version_minor": 0
      },
      "text/plain": [
       "  0%|          | 0/1 [00:00<?, ?it/s]"
      ]
     },
     "metadata": {},
     "output_type": "display_data"
    },
    {
     "name": "stdout",
     "output_type": "stream",
     "text": [
      "done in 0.03 seconds, 33.77 sentences/sec\n",
      "calculating scores...\n",
      "computing bert embedding.\n"
     ]
    },
    {
     "data": {
      "application/vnd.jupyter.widget-view+json": {
       "model_id": "811780e4c80d433884b21e89f1cb0923",
       "version_major": 2,
       "version_minor": 0
      },
      "text/plain": [
       "  0%|          | 0/1 [00:00<?, ?it/s]"
      ]
     },
     "metadata": {},
     "output_type": "display_data"
    },
    {
     "name": "stdout",
     "output_type": "stream",
     "text": [
      "computing greedy matching.\n"
     ]
    },
    {
     "data": {
      "application/vnd.jupyter.widget-view+json": {
       "model_id": "32e55f62f7ba4017b43a584d9b423aef",
       "version_major": 2,
       "version_minor": 0
      },
      "text/plain": [
       "  0%|          | 0/1 [00:00<?, ?it/s]"
      ]
     },
     "metadata": {},
     "output_type": "display_data"
    },
    {
     "name": "stdout",
     "output_type": "stream",
     "text": [
      "done in 0.03 seconds, 34.58 sentences/sec\n",
      "calculating scores...\n",
      "computing bert embedding.\n"
     ]
    },
    {
     "data": {
      "application/vnd.jupyter.widget-view+json": {
       "model_id": "e22b5c26c6da4ebc87c9638bc74d11d7",
       "version_major": 2,
       "version_minor": 0
      },
      "text/plain": [
       "  0%|          | 0/1 [00:00<?, ?it/s]"
      ]
     },
     "metadata": {},
     "output_type": "display_data"
    },
    {
     "name": "stdout",
     "output_type": "stream",
     "text": [
      "computing greedy matching.\n"
     ]
    },
    {
     "data": {
      "application/vnd.jupyter.widget-view+json": {
       "model_id": "0b2f69f4950e4930a07107b2ae87693d",
       "version_major": 2,
       "version_minor": 0
      },
      "text/plain": [
       "  0%|          | 0/1 [00:00<?, ?it/s]"
      ]
     },
     "metadata": {},
     "output_type": "display_data"
    },
    {
     "name": "stdout",
     "output_type": "stream",
     "text": [
      "done in 0.03 seconds, 35.87 sentences/sec\n",
      "calculating scores...\n",
      "computing bert embedding.\n"
     ]
    },
    {
     "data": {
      "application/vnd.jupyter.widget-view+json": {
       "model_id": "6222230682754c3e98e1f99a04f17cf1",
       "version_major": 2,
       "version_minor": 0
      },
      "text/plain": [
       "  0%|          | 0/1 [00:00<?, ?it/s]"
      ]
     },
     "metadata": {},
     "output_type": "display_data"
    },
    {
     "name": "stdout",
     "output_type": "stream",
     "text": [
      "computing greedy matching.\n"
     ]
    },
    {
     "data": {
      "application/vnd.jupyter.widget-view+json": {
       "model_id": "316f77f8a14a4d3a87109ddf72923a10",
       "version_major": 2,
       "version_minor": 0
      },
      "text/plain": [
       "  0%|          | 0/1 [00:00<?, ?it/s]"
      ]
     },
     "metadata": {},
     "output_type": "display_data"
    },
    {
     "name": "stdout",
     "output_type": "stream",
     "text": [
      "done in 0.03 seconds, 33.65 sentences/sec\n",
      "calculating scores...\n",
      "computing bert embedding.\n"
     ]
    },
    {
     "data": {
      "application/vnd.jupyter.widget-view+json": {
       "model_id": "d27ac275953e4aa2ad85749b02b12c7e",
       "version_major": 2,
       "version_minor": 0
      },
      "text/plain": [
       "  0%|          | 0/1 [00:00<?, ?it/s]"
      ]
     },
     "metadata": {},
     "output_type": "display_data"
    },
    {
     "name": "stdout",
     "output_type": "stream",
     "text": [
      "computing greedy matching.\n"
     ]
    },
    {
     "data": {
      "application/vnd.jupyter.widget-view+json": {
       "model_id": "7cae9cbbf0c64e7ea1092262ee2c727b",
       "version_major": 2,
       "version_minor": 0
      },
      "text/plain": [
       "  0%|          | 0/1 [00:00<?, ?it/s]"
      ]
     },
     "metadata": {},
     "output_type": "display_data"
    },
    {
     "name": "stdout",
     "output_type": "stream",
     "text": [
      "done in 0.03 seconds, 33.57 sentences/sec\n",
      "calculating scores...\n",
      "computing bert embedding.\n"
     ]
    },
    {
     "data": {
      "application/vnd.jupyter.widget-view+json": {
       "model_id": "56c6395ede214d1aa6a13dd2bafd14d6",
       "version_major": 2,
       "version_minor": 0
      },
      "text/plain": [
       "  0%|          | 0/1 [00:00<?, ?it/s]"
      ]
     },
     "metadata": {},
     "output_type": "display_data"
    },
    {
     "name": "stdout",
     "output_type": "stream",
     "text": [
      "computing greedy matching.\n"
     ]
    },
    {
     "data": {
      "application/vnd.jupyter.widget-view+json": {
       "model_id": "4d8c03487a824fe7b2b576ed30ade012",
       "version_major": 2,
       "version_minor": 0
      },
      "text/plain": [
       "  0%|          | 0/1 [00:00<?, ?it/s]"
      ]
     },
     "metadata": {},
     "output_type": "display_data"
    },
    {
     "name": "stdout",
     "output_type": "stream",
     "text": [
      "done in 0.03 seconds, 35.64 sentences/sec\n",
      "{'rouge1': Score(precision=0.5205479452054794, recall=0.5205479452054794, fmeasure=0.5205479452054794), 'rouge2': Score(precision=0.1111111111111111, recall=0.1111111111111111, fmeasure=0.1111111111111111), 'rougeL': Score(precision=0.3561643835616438, recall=0.3561643835616438, fmeasure=0.35616438356164387)}\n",
      "{'rouge1': Score(precision=0.4305555555555556, recall=0.41333333333333333, fmeasure=0.42176870748299317), 'rouge2': Score(precision=0.08450704225352113, recall=0.08108108108108109, fmeasure=0.08275862068965517), 'rougeL': Score(precision=0.3472222222222222, recall=0.3333333333333333, fmeasure=0.34013605442176864)}\n",
      "{'rouge1': Score(precision=0.4222222222222222, recall=0.41304347826086957, fmeasure=0.4175824175824176), 'rouge2': Score(precision=0.09090909090909091, recall=0.08888888888888889, fmeasure=0.0898876404494382), 'rougeL': Score(precision=0.3111111111111111, recall=0.30434782608695654, fmeasure=0.3076923076923077)}\n",
      "{'rouge1': Score(precision=0.4044943820224719, recall=0.4090909090909091, fmeasure=0.4067796610169492), 'rouge2': Score(precision=0.10227272727272728, recall=0.10344827586206896, fmeasure=0.10285714285714286), 'rougeL': Score(precision=0.2808988764044944, recall=0.2840909090909091, fmeasure=0.28248587570621464)}\n",
      "{'rouge1': Score(precision=0.42045454545454547, recall=0.4157303370786517, fmeasure=0.4180790960451977), 'rouge2': Score(precision=0.09195402298850575, recall=0.09090909090909091, fmeasure=0.09142857142857144), 'rougeL': Score(precision=0.3522727272727273, recall=0.34831460674157305, fmeasure=0.35028248587570626)}\n",
      "{'rouge1': Score(precision=0.36764705882352944, recall=0.36764705882352944, fmeasure=0.3676470588235295), 'rouge2': Score(precision=0.04477611940298507, recall=0.04477611940298507, fmeasure=0.04477611940298508), 'rougeL': Score(precision=0.2647058823529412, recall=0.2647058823529412, fmeasure=0.2647058823529412)}\n",
      "{'rouge1': Score(precision=0.47619047619047616, recall=0.44776119402985076, fmeasure=0.4615384615384615), 'rouge2': Score(precision=0.08064516129032258, recall=0.07575757575757576, fmeasure=0.078125), 'rougeL': Score(precision=0.30158730158730157, recall=0.2835820895522388, fmeasure=0.29230769230769227)}\n",
      "{'rouge1': Score(precision=0.36046511627906974, recall=0.36046511627906974, fmeasure=0.36046511627906974), 'rouge2': Score(precision=0.03529411764705882, recall=0.03529411764705882, fmeasure=0.03529411764705882), 'rougeL': Score(precision=0.2558139534883721, recall=0.2558139534883721, fmeasure=0.2558139534883721)}\n",
      "{'rouge1': Score(precision=0.43820224719101125, recall=0.4148936170212766, fmeasure=0.4262295081967213), 'rouge2': Score(precision=0.10227272727272728, recall=0.0967741935483871, fmeasure=0.0994475138121547), 'rougeL': Score(precision=0.3146067415730337, recall=0.2978723404255319, fmeasure=0.3060109289617486)}\n",
      "{'rouge1': Score(precision=0.4126984126984127, recall=0.40625, fmeasure=0.4094488188976378), 'rouge2': Score(precision=0.08064516129032258, recall=0.07936507936507936, fmeasure=0.08), 'rougeL': Score(precision=0.2857142857142857, recall=0.28125, fmeasure=0.28346456692913385)}\n"
     ]
    },
    {
     "name": "stderr",
     "output_type": "stream",
     "text": [
      "There were missing keys in the checkpoint model loaded: ['lm_head.weight'].\n"
     ]
    },
    {
     "data": {
      "text/plain": [
       "('Models/gpt-neo/125M-wow-test/results/tokenizer_config.json',\n",
       " 'Models/gpt-neo/125M-wow-test/results/special_tokens_map.json',\n",
       " 'Models/gpt-neo/125M-wow-test/results/vocab.json',\n",
       " 'Models/gpt-neo/125M-wow-test/results/merges.txt',\n",
       " 'Models/gpt-neo/125M-wow-test/results/added_tokens.json',\n",
       " 'Models/gpt-neo/125M-wow-test/results/tokenizer.json')"
      ]
     },
     "execution_count": 6,
     "metadata": {},
     "output_type": "execute_result"
    }
   ],
   "source": [
    "from transformers import EarlyStoppingCallback\n",
    "torch.cuda.empty_cache()\n",
    "\n",
    "training_args = TrainingArguments(output_dir=os.path.join(output_path, 'results'),\n",
    "                                  num_train_epochs=25,\n",
    "                                  load_best_model_at_end=True,\n",
    "                                  overwrite_output_dir=True,\n",
    "                                  eval_strategy=\"epoch\",\n",
    "                                  save_strategy=\"epoch\",\n",
    "                                  per_device_train_batch_size=5, #56\n",
    "                                  per_device_eval_batch_size=5,\n",
    "                                  warmup_steps=10,\n",
    "                                  weight_decay=0.05,\n",
    "                                  logging_dir=os.path.join(output_path, 'logs'),\n",
    "                                  report_to = 'wandb')\n",
    "\n",
    "trainer = Trainer(model=model,\n",
    "        args=training_args,\n",
    "        train_dataset = train_dataset, \n",
    "        eval_dataset = val_dataset,\n",
    "        compute_metrics=compute_metrics,\n",
    "        callbacks=[EarlyStoppingCallback(early_stopping_patience=3)],\n",
    "        data_collator = lambda data: {'input_ids': torch.stack([f[0] for f in data]),\n",
    "                                      'attention_mask': torch.stack([f[1] for f in data]),\n",
    "                                      'labels': torch.stack([f[0] for f in data])})\n",
    "# Fine-tune the model\n",
    "trainer.train()\n",
    "model.save_pretrained(os.path.join(output_path, 'results'))\n",
    "tokenizer.save_pretrained(os.path.join(output_path, 'results'))"
   ]
  },
  {
   "cell_type": "code",
   "execution_count": null,
   "id": "a3638fcf-78b1-4fda-a000-e1f88e7c1528",
   "metadata": {
    "tags": []
   },
   "outputs": [],
   "source": [
    "# Access a single example from the validation dataset\n",
    "# print(trainer.evaluate())\n",
    "# for i in val_dataset:\n",
    "#     evalInput(i)"
   ]
  },
  {
   "cell_type": "code",
   "execution_count": 38,
   "id": "606020b5-adfc-4623-aec0-92b37d814b0b",
   "metadata": {},
   "outputs": [],
   "source": [
    "import re\n",
    "# Define the regex pattern to match the sentence that starts with \"everything\" and ends with \"Description:\"\n",
    "def evalInput(example):\n",
    "    # Assuming 'example' is a tuple where the first element is the input tensor\n",
    "    input_ids_tensor = example[0]\n",
    "    # Convert the tensor to a list of token IDs\n",
    "    token_ids_list = input_ids_tensor.tolist()\n",
    "    # Decode the token IDs into text\n",
    "    decoded_text = tokenizer.decode(token_ids_list, skip_special_tokens=True)\n",
    "    # Regex to capture the title and content separately\n",
    "    match = re.match(r'^Title: (.*?) Description: (.*)', decoded_text, re.DOTALL)\n",
    "\n",
    "    if match:\n",
    "        title = match.group(1)\n",
    "        content = match.group(2)\n",
    "        input_text = f\"Title: {title} Description: \"\n",
    "        print(input_text)\n",
    "        predictions = generate_predictions(input_text)\n",
    "        print(predictions)\n",
    "        print(compute_rouge(predictions, decoded_text))\n",
    "        bleu_scores = []\n",
    "        bert_scores = []\n",
    "        for generated_text in predictions:\n",
    "            bleu_score = sentence_bleu([decoded_text], generated_text)\n",
    "            bert_score = calculate_bertscore([generated_text], [decoded_text])\n",
    "            bleu_scores.append(bleu_score)\n",
    "            bert_scores.append(bert_score)\n",
    "        precision = 0\n",
    "        recall = 0\n",
    "        f1 = 0\n",
    "        for score in bert_scores:\n",
    "            print(score)\n",
    "            precision = precision + score['precision']\n",
    "            recall = recall + score['recall']\n",
    "            f1 = f1 + score['f1']\n",
    "        print({\n",
    "            'bleu': sum(bleu_scores) / len(bleu_scores),\n",
    "            'precision': precision / len(bert_scores),\n",
    "            'recall': recall / len(bert_scores),\n",
    "            'f1': f1 / len(bert_scores),\n",
    "        })\n",
    "        # print(\"Title:\", title)\n",
    "        # print(\"Content:\", content)\n",
    "    else:\n",
    "        print(\"No match found.\")\n",
    "\n",
    "# !pip install bert-score\n",
    "import bert_score\n",
    "\n",
    "def calculate_bertscore(predictions, references, lang='en'):\n",
    "    # Calculate BERTScore\n",
    "    P, R, F1 = bert_score.score(predictions, references, lang=lang)\n",
    "    \n",
    "    # Compute average scores\n",
    "    avg_precision = P.mean().item()\n",
    "    avg_recall = R.mean().item()\n",
    "    avg_f1 = F1.mean().item()\n",
    "    \n",
    "    return {\n",
    "        'precision': avg_precision,\n",
    "        'recall': avg_recall,\n",
    "        'f1': avg_f1\n",
    "    }\n",
    "\n",
    "# Example usage\n",
    "# predictions = [\n",
    "#     \"The cat sat on the mat.\",\n",
    "#     \"The quick brown fox jumps over the lazy dog.\"\n",
    "# ]\n",
    "# references = [\n",
    "#     \"A cat was sitting on a rug.\",\n",
    "#     \"A speedy brown fox leaps over a lazy canine.\"\n",
    "# ]\n",
    "\n",
    "# scores = calculate_bertscore(predictions, references)\n",
    "# print(scores)\n",
    "\n",
    "from rouge_score import rouge_scorer\n",
    "from nltk.translate.bleu_score import sentence_bleu\n",
    "def compute_rouge(predictions, references):\n",
    "    scorer = rouge_scorer.RougeScorer(['rouge1', 'rougeL'], use_stemmer=True)\n",
    "    rouge1_scores = []\n",
    "    rougeL_scores = []\n",
    "    \n",
    "    for ref, pred in zip(references, predictions):\n",
    "        scores = scorer.score(ref, pred)\n",
    "        rouge1_scores.append(scores['rouge1'].fmeasure)\n",
    "        rougeL_scores.append(scores['rougeL'].fmeasure)\n",
    "        \n",
    "    rouge1_avg = sum(rouge1_scores) / len(rouge1_scores)\n",
    "    rougeL_avg = sum(rougeL_scores) / len(rougeL_scores)\n",
    "    \n",
    "    return {\n",
    "        \"rouge1\": rouge1_avg,\n",
    "        \"rougeL\": rougeL_avg\n",
    "    }\n",
    "\n",
    "# Epoch \tTraining Loss \tValidation Loss\n",
    "# 1 \tNo log \t1.520463\n",
    "# 2 \t1.652300 \t1.467383\n",
    "# 3 \t1.393100 \t1.441400\n",
    "# 4 \t1.393100 \t1.428227\n",
    "# 5 \t1.294700 \t1.422623\n",
    "# 6 \t1.205200 \t1.425824\n",
    "# 7 \t1.140800 \t1.428631\n",
    "# 8 \t1.140800 \t1.444082\n",
    "\n",
    "# There were missing keys in the checkpoint model loaded: ['lm_head.weight'].\n",
    "\n",
    "# TrainOutput(global_step=2920, training_loss=1.2997734801409995, metrics={'train_runtime': 4592.453, 'train_samples_per_second': 111.226, 'train_steps_per_second': 1.987, 'total_flos': 1.5760779141316608e+16, 'train_loss': 1.2997734801409995, 'epoch': 8.0})"
   ]
  },
  {
   "cell_type": "code",
   "execution_count": 3,
   "id": "dff87b09-7038-4780-a86b-f84891d14972",
   "metadata": {
    "tags": []
   },
   "outputs": [],
   "source": [
    "def generate_predictions(input_text):\n",
    "    input_ids = tokenizer(input_text, return_tensors=\"pt\").input_ids.cuda()\n",
    "    model.eval()\n",
    "    try:\n",
    "        sample_outputs = model.generate(\n",
    "            input_ids=input_ids,\n",
    "            pad_token_id=tokenizer.pad_token_id,\n",
    "            do_sample=True,\n",
    "            top_k=50,\n",
    "            max_length=300,\n",
    "            top_p=0.95,\n",
    "            temperature=0.7,\n",
    "            num_return_sequences=10\n",
    "        )\n",
    "        # Decode and print generated texts\n",
    "        generated_texts = [tokenizer.decode(output, skip_special_tokens=True) for output in sample_outputs]\n",
    "        return generated_texts\n",
    "\n",
    "    except RuntimeError as e:\n",
    "        print(\"RuntimeError during generation:\", e)\n",
    "\n",
    "        # Additional Debugging: Check logits\n",
    "        with torch.no_grad():\n",
    "            outputs = model(input_ids=input_ids)\n",
    "            logits = outputs.logits\n",
    "            assert not torch.isnan(logits).any(), \"logits contain NaNs\"\n",
    "            assert not torch.isinf(logits).any(), \"logits contain Infs\"\n",
    "            print(\"Logits sample:\", logits[0, -1, :10])\n"
   ]
  },
  {
   "cell_type": "code",
   "execution_count": 4,
   "id": "4655e419-5c6a-4899-8a10-6b1d18a091ec",
   "metadata": {
    "tags": []
   },
   "outputs": [],
   "source": [
    "input_text = \"Title: Sharptalon's Claw \\nDescription:\"\n",
    "input_ids = tokenizer(input_text, return_tensors=\"pt\").input_ids.cuda()\n",
    "\n",
    "model.eval()\n",
    "try:\n",
    "    sample_outputs = model.generate(\n",
    "        input_ids=input_ids,\n",
    "        pad_token_id=tokenizer.pad_token_id,\n",
    "        do_sample=True,\n",
    "        top_k=50,\n",
    "        max_length=300,\n",
    "        top_p=0.95,\n",
    "        temperature=0.7,\n",
    "        num_return_sequences=100\n",
    "    )\n",
    "    # Decode and print generated texts\n",
    "    generated_texts = [tokenizer.decode(output, skip_special_tokens=True) for output in sample_outputs]\n",
    "    with open(os.path.join(output_path, 'results','output2.txt'), 'w') as file:\n",
    "        file.writelines([f\"Generated text {i+1}:\\n{text}\\n\" for i, text in enumerate(generated_texts)])\n",
    "\n",
    "except RuntimeError as e:\n",
    "    print(\"RuntimeError during generation:\", e)\n",
    "\n",
    "    # Additional Debugging: Check logits\n",
    "    with torch.no_grad():\n",
    "        outputs = model(input_ids=input_ids)\n",
    "        logits = outputs.logits\n",
    "        assert not torch.isnan(logits).any(), \"logits contain NaNs\"\n",
    "        assert not torch.isinf(logits).any(), \"logits contain Infs\"\n",
    "        print(\"Logits sample:\", logits[0, -1, :10])\n"
   ]
  }
 ],
 "metadata": {
  "environment": {
   "kernel": "python3",
   "name": "common-cu121.m123",
   "type": "gcloud",
   "uri": "us-docker.pkg.dev/deeplearning-platform-release/gcr.io/base-cu121:m123"
  },
  "kernelspec": {
   "display_name": "Python 3",
   "language": "python",
   "name": "python3"
  },
  "language_info": {
   "codemirror_mode": {
    "name": "ipython",
    "version": 3
   },
   "file_extension": ".py",
   "mimetype": "text/x-python",
   "name": "python",
   "nbconvert_exporter": "python",
   "pygments_lexer": "ipython3",
   "version": "3.10.14"
  }
 },
 "nbformat": 4,
 "nbformat_minor": 5
}
